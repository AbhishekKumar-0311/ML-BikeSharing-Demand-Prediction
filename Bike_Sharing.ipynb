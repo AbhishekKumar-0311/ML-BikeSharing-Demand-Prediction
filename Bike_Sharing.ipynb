{
 "cells": [
  {
   "cell_type": "markdown",
   "metadata": {},
   "source": [
    "# Bike Sharing Assignment"
   ]
  },
  {
   "cell_type": "markdown",
   "metadata": {},
   "source": [
    "---\n",
    "## Environment Setup\n",
    "---"
   ]
  },
  {
   "cell_type": "code",
   "execution_count": 1,
   "metadata": {},
   "outputs": [],
   "source": [
    "# To get multiple outputs in the same cell\n",
    "\n",
    "from IPython.core.interactiveshell import InteractiveShell\n",
    "InteractiveShell.ast_node_interactivity = \"all\""
   ]
  },
  {
   "cell_type": "code",
   "execution_count": 2,
   "metadata": {},
   "outputs": [],
   "source": [
    "# Supress Warnings\n",
    "\n",
    "import warnings\n",
    "warnings.filterwarnings('ignore')"
   ]
  },
  {
   "cell_type": "code",
   "execution_count": 3,
   "metadata": {},
   "outputs": [],
   "source": [
    "# Import the EDA required libraries\n",
    "\n",
    "import numpy as np\n",
    "import pandas as pd\n",
    "import matplotlib.pyplot as plt\n",
    "from matplotlib import style\n",
    "import seaborn as sns\n",
    "import plotly.express as px\n",
    "\n",
    "# Import the machine learning libraries\n",
    "\n",
    "from sklearn.model_selection import train_test_split\n",
    "from sklearn.preprocessing import StandardScaler\n",
    "\n",
    "# Importing RFE and LinearRegression\n",
    "from sklearn.feature_selection import RFE\n",
    "from sklearn.linear_model import LinearRegression\n",
    "\n",
    "import statsmodels.api as sm\n",
    "\n",
    "# Importing VIF from statsmodels \n",
    "from statsmodels.stats.outliers_influence import variance_inflation_factor\n",
    "\n",
    "# Import the generic utility libraries\n",
    "\n",
    "import os\n",
    "import random\n",
    "import datetime as dt\n",
    "\n",
    "#Importing the function\n",
    "from pandas_profiling import ProfileReport"
   ]
  },
  {
   "cell_type": "code",
   "execution_count": 4,
   "metadata": {},
   "outputs": [],
   "source": [
    "# Set the required global options\n",
    "\n",
    "# To display all the columns in dataframe\n",
    "pd.set_option( \"display.max_columns\", None)\n",
    "pd.set_option( \"display.max_rows\", None)\n",
    "\n",
    "# Setting the display fromat\n",
    "# pd.set_option('display.float_format', lambda x: '%.2f' % x)\n",
    "\n",
    "#pd.reset_option('display.float_format')\n",
    "\n",
    "sns.set(style='whitegrid')\n",
    "\n",
    "%matplotlib inline"
   ]
  },
  {
   "cell_type": "markdown",
   "metadata": {},
   "source": [
    "---\n",
    "## Data Smthing\n",
    "---"
   ]
  },
  {
   "cell_type": "markdown",
   "metadata": {},
   "source": [
    "- **_Reading the Bike Sharing dataset csv file_**"
   ]
  },
  {
   "cell_type": "code",
   "execution_count": 5,
   "metadata": {},
   "outputs": [],
   "source": [
    "# Read the raw csv file 'day.csv' - containing the basic data of the loans\n",
    "# encoding - The type of encoding format needs to be used for data reading\n",
    "\n",
    "day = pd.read_csv('day.csv', low_memory=False)"
   ]
  },
  {
   "cell_type": "code",
   "execution_count": 6,
   "metadata": {},
   "outputs": [
    {
     "data": {
      "text/html": [
       "<div>\n",
       "<style scoped>\n",
       "    .dataframe tbody tr th:only-of-type {\n",
       "        vertical-align: middle;\n",
       "    }\n",
       "\n",
       "    .dataframe tbody tr th {\n",
       "        vertical-align: top;\n",
       "    }\n",
       "\n",
       "    .dataframe thead th {\n",
       "        text-align: right;\n",
       "    }\n",
       "</style>\n",
       "<table border=\"1\" class=\"dataframe\">\n",
       "  <thead>\n",
       "    <tr style=\"text-align: right;\">\n",
       "      <th></th>\n",
       "      <th>instant</th>\n",
       "      <th>dteday</th>\n",
       "      <th>season</th>\n",
       "      <th>yr</th>\n",
       "      <th>mnth</th>\n",
       "      <th>holiday</th>\n",
       "      <th>weekday</th>\n",
       "      <th>workingday</th>\n",
       "      <th>weathersit</th>\n",
       "      <th>temp</th>\n",
       "      <th>atemp</th>\n",
       "      <th>hum</th>\n",
       "      <th>windspeed</th>\n",
       "      <th>casual</th>\n",
       "      <th>registered</th>\n",
       "      <th>cnt</th>\n",
       "    </tr>\n",
       "  </thead>\n",
       "  <tbody>\n",
       "    <tr>\n",
       "      <th>0</th>\n",
       "      <td>1</td>\n",
       "      <td>01-01-2018</td>\n",
       "      <td>1</td>\n",
       "      <td>0</td>\n",
       "      <td>1</td>\n",
       "      <td>0</td>\n",
       "      <td>6</td>\n",
       "      <td>0</td>\n",
       "      <td>2</td>\n",
       "      <td>14.110847</td>\n",
       "      <td>18.18125</td>\n",
       "      <td>80.5833</td>\n",
       "      <td>10.749882</td>\n",
       "      <td>331</td>\n",
       "      <td>654</td>\n",
       "      <td>985</td>\n",
       "    </tr>\n",
       "    <tr>\n",
       "      <th>1</th>\n",
       "      <td>2</td>\n",
       "      <td>02-01-2018</td>\n",
       "      <td>1</td>\n",
       "      <td>0</td>\n",
       "      <td>1</td>\n",
       "      <td>0</td>\n",
       "      <td>0</td>\n",
       "      <td>0</td>\n",
       "      <td>2</td>\n",
       "      <td>14.902598</td>\n",
       "      <td>17.68695</td>\n",
       "      <td>69.6087</td>\n",
       "      <td>16.652113</td>\n",
       "      <td>131</td>\n",
       "      <td>670</td>\n",
       "      <td>801</td>\n",
       "    </tr>\n",
       "    <tr>\n",
       "      <th>2</th>\n",
       "      <td>3</td>\n",
       "      <td>03-01-2018</td>\n",
       "      <td>1</td>\n",
       "      <td>0</td>\n",
       "      <td>1</td>\n",
       "      <td>0</td>\n",
       "      <td>1</td>\n",
       "      <td>1</td>\n",
       "      <td>1</td>\n",
       "      <td>8.050924</td>\n",
       "      <td>9.47025</td>\n",
       "      <td>43.7273</td>\n",
       "      <td>16.636703</td>\n",
       "      <td>120</td>\n",
       "      <td>1229</td>\n",
       "      <td>1349</td>\n",
       "    </tr>\n",
       "    <tr>\n",
       "      <th>3</th>\n",
       "      <td>4</td>\n",
       "      <td>04-01-2018</td>\n",
       "      <td>1</td>\n",
       "      <td>0</td>\n",
       "      <td>1</td>\n",
       "      <td>0</td>\n",
       "      <td>2</td>\n",
       "      <td>1</td>\n",
       "      <td>1</td>\n",
       "      <td>8.200000</td>\n",
       "      <td>10.60610</td>\n",
       "      <td>59.0435</td>\n",
       "      <td>10.739832</td>\n",
       "      <td>108</td>\n",
       "      <td>1454</td>\n",
       "      <td>1562</td>\n",
       "    </tr>\n",
       "    <tr>\n",
       "      <th>4</th>\n",
       "      <td>5</td>\n",
       "      <td>05-01-2018</td>\n",
       "      <td>1</td>\n",
       "      <td>0</td>\n",
       "      <td>1</td>\n",
       "      <td>0</td>\n",
       "      <td>3</td>\n",
       "      <td>1</td>\n",
       "      <td>1</td>\n",
       "      <td>9.305237</td>\n",
       "      <td>11.46350</td>\n",
       "      <td>43.6957</td>\n",
       "      <td>12.522300</td>\n",
       "      <td>82</td>\n",
       "      <td>1518</td>\n",
       "      <td>1600</td>\n",
       "    </tr>\n",
       "  </tbody>\n",
       "</table>\n",
       "</div>"
      ],
      "text/plain": [
       "   instant      dteday  season  yr  mnth  holiday  weekday  workingday  \\\n",
       "0        1  01-01-2018       1   0     1        0        6           0   \n",
       "1        2  02-01-2018       1   0     1        0        0           0   \n",
       "2        3  03-01-2018       1   0     1        0        1           1   \n",
       "3        4  04-01-2018       1   0     1        0        2           1   \n",
       "4        5  05-01-2018       1   0     1        0        3           1   \n",
       "\n",
       "   weathersit       temp     atemp      hum  windspeed  casual  registered  \\\n",
       "0           2  14.110847  18.18125  80.5833  10.749882     331         654   \n",
       "1           2  14.902598  17.68695  69.6087  16.652113     131         670   \n",
       "2           1   8.050924   9.47025  43.7273  16.636703     120        1229   \n",
       "3           1   8.200000  10.60610  59.0435  10.739832     108        1454   \n",
       "4           1   9.305237  11.46350  43.6957  12.522300      82        1518   \n",
       "\n",
       "    cnt  \n",
       "0   985  \n",
       "1   801  \n",
       "2  1349  \n",
       "3  1562  \n",
       "4  1600  "
      ]
     },
     "execution_count": 6,
     "metadata": {},
     "output_type": "execute_result"
    }
   ],
   "source": [
    "day.head()"
   ]
  },
  {
   "cell_type": "code",
   "execution_count": 7,
   "metadata": {},
   "outputs": [
    {
     "data": {
      "text/plain": [
       "(730, 16)"
      ]
     },
     "execution_count": 7,
     "metadata": {},
     "output_type": "execute_result"
    }
   ],
   "source": [
    "day.shape"
   ]
  },
  {
   "cell_type": "code",
   "execution_count": 8,
   "metadata": {},
   "outputs": [],
   "source": [
    "#day['dteday'] = pd.to_datetime(day['dteday'], format='%d-%m-%Y')"
   ]
  },
  {
   "cell_type": "code",
   "execution_count": 9,
   "metadata": {},
   "outputs": [],
   "source": [
    "# df = pd.DataFrame()\n",
    "# df['dteday'] = day['dteday']\n",
    "# df['year'] = day['dteday'].dt.year\n",
    "# df['month'] = day['dteday'].dt.month\n",
    "# df['day'] = day['dteday'].dt.day\n",
    "# df['weekday'] = day['dteday'].dt.weekday\n",
    "# df['dayname'] = day[['dteday']].apply(lambda x: dt.datetime.strftime(x['dteday'], '%A'), axis=1)\n",
    "# df"
   ]
  },
  {
   "cell_type": "markdown",
   "metadata": {},
   "source": [
    "#### Dataset characteristics\n",
    "\n",
    "- day.csv have the following fields:\n",
    "\t\n",
    "\t- instant: record index\n",
    "\t- dteday : date\n",
    "\t- season : season (1:spring, 2:summer, 3:fall, 4:winter)\n",
    "\t- yr : year (0: 2018, 1:2019)\n",
    "\t- mnth : month ( 1 to 12)\n",
    "\t- holiday : weather day is a holiday or not (extracted from http://dchr.dc.gov/page/holiday-schedule)\n",
    "\t- weekday : day of the week\n",
    "\t- workingday : if day is neither weekend nor holiday is 1, otherwise is 0.\n",
    "\t+ weathersit : \n",
    "\t\t- 1: Clear, Few clouds, Partly cloudy, Partly cloudy\n",
    "\t\t- 2: Mist + Cloudy, Mist + Broken clouds, Mist + Few clouds, Mist\n",
    "\t\t- 3: Light Snow, Light Rain + Thunderstorm + Scattered clouds, Light Rain + Scattered clouds\n",
    "\t\t- 4: Heavy Rain + Ice Pallets + Thunderstorm + Mist, Snow + Fog\n",
    "\t- temp : temperature in Celsius\n",
    "\t- atemp: feeling temperature in Celsius\n",
    "\t- hum: humidity\n",
    "\t- windspeed: wind speed\n",
    "\t- casual: count of casual users\n",
    "\t- registered: count of registered users\n",
    "\t- cnt: count of total rental bikes including both casual and registered"
   ]
  },
  {
   "cell_type": "markdown",
   "metadata": {},
   "source": [
    "- **_Checking the missing values_**"
   ]
  },
  {
   "cell_type": "code",
   "execution_count": 10,
   "metadata": {},
   "outputs": [
    {
     "data": {
      "text/plain": [
       "0"
      ]
     },
     "execution_count": 10,
     "metadata": {},
     "output_type": "execute_result"
    }
   ],
   "source": [
    "miss = day.isna().sum()\n",
    "len(miss[miss > 0])"
   ]
  },
  {
   "cell_type": "markdown",
   "metadata": {},
   "source": [
    "_There are no missing values in the data as evident from **.isna()**_"
   ]
  },
  {
   "cell_type": "code",
   "execution_count": 11,
   "metadata": {},
   "outputs": [
    {
     "data": {
      "text/html": [
       "<div>\n",
       "<style scoped>\n",
       "    .dataframe tbody tr th:only-of-type {\n",
       "        vertical-align: middle;\n",
       "    }\n",
       "\n",
       "    .dataframe tbody tr th {\n",
       "        vertical-align: top;\n",
       "    }\n",
       "\n",
       "    .dataframe thead th {\n",
       "        text-align: right;\n",
       "    }\n",
       "</style>\n",
       "<table border=\"1\" class=\"dataframe\">\n",
       "  <thead>\n",
       "    <tr style=\"text-align: right;\">\n",
       "      <th></th>\n",
       "      <th>instant</th>\n",
       "      <th>season</th>\n",
       "      <th>yr</th>\n",
       "      <th>mnth</th>\n",
       "      <th>holiday</th>\n",
       "      <th>weekday</th>\n",
       "      <th>workingday</th>\n",
       "      <th>weathersit</th>\n",
       "      <th>temp</th>\n",
       "      <th>atemp</th>\n",
       "      <th>hum</th>\n",
       "      <th>windspeed</th>\n",
       "      <th>casual</th>\n",
       "      <th>registered</th>\n",
       "      <th>cnt</th>\n",
       "    </tr>\n",
       "  </thead>\n",
       "  <tbody>\n",
       "    <tr>\n",
       "      <th>count</th>\n",
       "      <td>730.000000</td>\n",
       "      <td>730.000000</td>\n",
       "      <td>730.000000</td>\n",
       "      <td>730.000000</td>\n",
       "      <td>730.000000</td>\n",
       "      <td>730.000000</td>\n",
       "      <td>730.000000</td>\n",
       "      <td>730.000000</td>\n",
       "      <td>730.000000</td>\n",
       "      <td>730.000000</td>\n",
       "      <td>730.000000</td>\n",
       "      <td>730.000000</td>\n",
       "      <td>730.000000</td>\n",
       "      <td>730.000000</td>\n",
       "      <td>730.000000</td>\n",
       "    </tr>\n",
       "    <tr>\n",
       "      <th>mean</th>\n",
       "      <td>365.500000</td>\n",
       "      <td>2.498630</td>\n",
       "      <td>0.500000</td>\n",
       "      <td>6.526027</td>\n",
       "      <td>0.028767</td>\n",
       "      <td>2.997260</td>\n",
       "      <td>0.683562</td>\n",
       "      <td>1.394521</td>\n",
       "      <td>20.319259</td>\n",
       "      <td>23.726322</td>\n",
       "      <td>62.765175</td>\n",
       "      <td>12.763620</td>\n",
       "      <td>849.249315</td>\n",
       "      <td>3658.757534</td>\n",
       "      <td>4508.006849</td>\n",
       "    </tr>\n",
       "    <tr>\n",
       "      <th>std</th>\n",
       "      <td>210.877136</td>\n",
       "      <td>1.110184</td>\n",
       "      <td>0.500343</td>\n",
       "      <td>3.450215</td>\n",
       "      <td>0.167266</td>\n",
       "      <td>2.006161</td>\n",
       "      <td>0.465405</td>\n",
       "      <td>0.544807</td>\n",
       "      <td>7.506729</td>\n",
       "      <td>8.150308</td>\n",
       "      <td>14.237589</td>\n",
       "      <td>5.195841</td>\n",
       "      <td>686.479875</td>\n",
       "      <td>1559.758728</td>\n",
       "      <td>1936.011647</td>\n",
       "    </tr>\n",
       "    <tr>\n",
       "      <th>min</th>\n",
       "      <td>1.000000</td>\n",
       "      <td>1.000000</td>\n",
       "      <td>0.000000</td>\n",
       "      <td>1.000000</td>\n",
       "      <td>0.000000</td>\n",
       "      <td>0.000000</td>\n",
       "      <td>0.000000</td>\n",
       "      <td>1.000000</td>\n",
       "      <td>2.424346</td>\n",
       "      <td>3.953480</td>\n",
       "      <td>0.000000</td>\n",
       "      <td>1.500244</td>\n",
       "      <td>2.000000</td>\n",
       "      <td>20.000000</td>\n",
       "      <td>22.000000</td>\n",
       "    </tr>\n",
       "    <tr>\n",
       "      <th>25%</th>\n",
       "      <td>183.250000</td>\n",
       "      <td>2.000000</td>\n",
       "      <td>0.000000</td>\n",
       "      <td>4.000000</td>\n",
       "      <td>0.000000</td>\n",
       "      <td>1.000000</td>\n",
       "      <td>0.000000</td>\n",
       "      <td>1.000000</td>\n",
       "      <td>13.811885</td>\n",
       "      <td>16.889713</td>\n",
       "      <td>52.000000</td>\n",
       "      <td>9.041650</td>\n",
       "      <td>316.250000</td>\n",
       "      <td>2502.250000</td>\n",
       "      <td>3169.750000</td>\n",
       "    </tr>\n",
       "    <tr>\n",
       "      <th>50%</th>\n",
       "      <td>365.500000</td>\n",
       "      <td>3.000000</td>\n",
       "      <td>0.500000</td>\n",
       "      <td>7.000000</td>\n",
       "      <td>0.000000</td>\n",
       "      <td>3.000000</td>\n",
       "      <td>1.000000</td>\n",
       "      <td>1.000000</td>\n",
       "      <td>20.465826</td>\n",
       "      <td>24.368225</td>\n",
       "      <td>62.625000</td>\n",
       "      <td>12.125325</td>\n",
       "      <td>717.000000</td>\n",
       "      <td>3664.500000</td>\n",
       "      <td>4548.500000</td>\n",
       "    </tr>\n",
       "    <tr>\n",
       "      <th>75%</th>\n",
       "      <td>547.750000</td>\n",
       "      <td>3.000000</td>\n",
       "      <td>1.000000</td>\n",
       "      <td>10.000000</td>\n",
       "      <td>0.000000</td>\n",
       "      <td>5.000000</td>\n",
       "      <td>1.000000</td>\n",
       "      <td>2.000000</td>\n",
       "      <td>26.880615</td>\n",
       "      <td>30.445775</td>\n",
       "      <td>72.989575</td>\n",
       "      <td>15.625589</td>\n",
       "      <td>1096.500000</td>\n",
       "      <td>4783.250000</td>\n",
       "      <td>5966.000000</td>\n",
       "    </tr>\n",
       "    <tr>\n",
       "      <th>max</th>\n",
       "      <td>730.000000</td>\n",
       "      <td>4.000000</td>\n",
       "      <td>1.000000</td>\n",
       "      <td>12.000000</td>\n",
       "      <td>1.000000</td>\n",
       "      <td>6.000000</td>\n",
       "      <td>1.000000</td>\n",
       "      <td>3.000000</td>\n",
       "      <td>35.328347</td>\n",
       "      <td>42.044800</td>\n",
       "      <td>97.250000</td>\n",
       "      <td>34.000021</td>\n",
       "      <td>3410.000000</td>\n",
       "      <td>6946.000000</td>\n",
       "      <td>8714.000000</td>\n",
       "    </tr>\n",
       "  </tbody>\n",
       "</table>\n",
       "</div>"
      ],
      "text/plain": [
       "          instant      season          yr        mnth     holiday     weekday  \\\n",
       "count  730.000000  730.000000  730.000000  730.000000  730.000000  730.000000   \n",
       "mean   365.500000    2.498630    0.500000    6.526027    0.028767    2.997260   \n",
       "std    210.877136    1.110184    0.500343    3.450215    0.167266    2.006161   \n",
       "min      1.000000    1.000000    0.000000    1.000000    0.000000    0.000000   \n",
       "25%    183.250000    2.000000    0.000000    4.000000    0.000000    1.000000   \n",
       "50%    365.500000    3.000000    0.500000    7.000000    0.000000    3.000000   \n",
       "75%    547.750000    3.000000    1.000000   10.000000    0.000000    5.000000   \n",
       "max    730.000000    4.000000    1.000000   12.000000    1.000000    6.000000   \n",
       "\n",
       "       workingday  weathersit        temp       atemp         hum   windspeed  \\\n",
       "count  730.000000  730.000000  730.000000  730.000000  730.000000  730.000000   \n",
       "mean     0.683562    1.394521   20.319259   23.726322   62.765175   12.763620   \n",
       "std      0.465405    0.544807    7.506729    8.150308   14.237589    5.195841   \n",
       "min      0.000000    1.000000    2.424346    3.953480    0.000000    1.500244   \n",
       "25%      0.000000    1.000000   13.811885   16.889713   52.000000    9.041650   \n",
       "50%      1.000000    1.000000   20.465826   24.368225   62.625000   12.125325   \n",
       "75%      1.000000    2.000000   26.880615   30.445775   72.989575   15.625589   \n",
       "max      1.000000    3.000000   35.328347   42.044800   97.250000   34.000021   \n",
       "\n",
       "            casual   registered          cnt  \n",
       "count   730.000000   730.000000   730.000000  \n",
       "mean    849.249315  3658.757534  4508.006849  \n",
       "std     686.479875  1559.758728  1936.011647  \n",
       "min       2.000000    20.000000    22.000000  \n",
       "25%     316.250000  2502.250000  3169.750000  \n",
       "50%     717.000000  3664.500000  4548.500000  \n",
       "75%    1096.500000  4783.250000  5966.000000  \n",
       "max    3410.000000  6946.000000  8714.000000  "
      ]
     },
     "execution_count": 11,
     "metadata": {},
     "output_type": "execute_result"
    }
   ],
   "source": [
    "day.describe()"
   ]
  },
  {
   "cell_type": "markdown",
   "metadata": {},
   "source": [
    "---\n",
    "## Data Cleaning\n",
    "---"
   ]
  },
  {
   "cell_type": "code",
   "execution_count": 12,
   "metadata": {},
   "outputs": [
    {
     "data": {
      "text/plain": [
       "730"
      ]
     },
     "execution_count": 12,
     "metadata": {},
     "output_type": "execute_result"
    },
    {
     "name": "stdout",
     "output_type": "stream",
     "text": [
      "  100.0% unique values in variable instant\n"
     ]
    }
   ],
   "source": [
    "# Checking the values of 'instant'\n",
    "\n",
    "day['instant'].nunique()\n",
    "print(\" % 3.1f%% unique values in variable instant\" %(day['instant'].nunique()/len(day)*100))"
   ]
  },
  {
   "cell_type": "code",
   "execution_count": 13,
   "metadata": {},
   "outputs": [
    {
     "data": {
      "text/plain": [
       "730"
      ]
     },
     "execution_count": 13,
     "metadata": {},
     "output_type": "execute_result"
    },
    {
     "name": "stdout",
     "output_type": "stream",
     "text": [
      "  100.00% unique values in variable instant\n"
     ]
    }
   ],
   "source": [
    "# Checking the values of 'dteday' \n",
    "\n",
    "day['dteday'].nunique()\n",
    "print(\" % 3.2f%% unique values in variable instant\" %(day['dteday'].nunique()/len(day)*100))"
   ]
  },
  {
   "cell_type": "markdown",
   "metadata": {},
   "source": [
    "_Also year, month, weekday, workingday, holiday are the important metrics already derived from 'dteday' variable._ <br>\n",
    "_So, the variables **'instant'** and **'dteday'** can be dropped as it contains 100% distinct values, not useful for prediction._"
   ]
  },
  {
   "cell_type": "code",
   "execution_count": 14,
   "metadata": {},
   "outputs": [],
   "source": [
    "# Dropping the variables 'instant' and 'dteday'\n",
    "\n",
    "day.drop(['instant','dteday'], axis=1, inplace=True)"
   ]
  },
  {
   "cell_type": "code",
   "execution_count": 15,
   "metadata": {},
   "outputs": [],
   "source": [
    "# Dropping the variables 'casual' and 'registered' as the target variable will be 'cnt' - sum of 'casual' and 'registered'\n",
    "\n",
    "day.drop(['casual','registered'], axis=1, inplace=True)"
   ]
  },
  {
   "cell_type": "code",
   "execution_count": 16,
   "metadata": {},
   "outputs": [
    {
     "data": {
      "text/html": [
       "<div>\n",
       "<style scoped>\n",
       "    .dataframe tbody tr th:only-of-type {\n",
       "        vertical-align: middle;\n",
       "    }\n",
       "\n",
       "    .dataframe tbody tr th {\n",
       "        vertical-align: top;\n",
       "    }\n",
       "\n",
       "    .dataframe thead th {\n",
       "        text-align: right;\n",
       "    }\n",
       "</style>\n",
       "<table border=\"1\" class=\"dataframe\">\n",
       "  <thead>\n",
       "    <tr style=\"text-align: right;\">\n",
       "      <th></th>\n",
       "      <th>season</th>\n",
       "      <th>yr</th>\n",
       "      <th>mnth</th>\n",
       "      <th>holiday</th>\n",
       "      <th>weekday</th>\n",
       "      <th>workingday</th>\n",
       "      <th>weathersit</th>\n",
       "      <th>temp</th>\n",
       "      <th>atemp</th>\n",
       "      <th>hum</th>\n",
       "      <th>windspeed</th>\n",
       "      <th>cnt</th>\n",
       "    </tr>\n",
       "  </thead>\n",
       "  <tbody>\n",
       "    <tr>\n",
       "      <th>0</th>\n",
       "      <td>1</td>\n",
       "      <td>0</td>\n",
       "      <td>1</td>\n",
       "      <td>0</td>\n",
       "      <td>6</td>\n",
       "      <td>0</td>\n",
       "      <td>2</td>\n",
       "      <td>14.110847</td>\n",
       "      <td>18.18125</td>\n",
       "      <td>80.5833</td>\n",
       "      <td>10.749882</td>\n",
       "      <td>985</td>\n",
       "    </tr>\n",
       "    <tr>\n",
       "      <th>1</th>\n",
       "      <td>1</td>\n",
       "      <td>0</td>\n",
       "      <td>1</td>\n",
       "      <td>0</td>\n",
       "      <td>0</td>\n",
       "      <td>0</td>\n",
       "      <td>2</td>\n",
       "      <td>14.902598</td>\n",
       "      <td>17.68695</td>\n",
       "      <td>69.6087</td>\n",
       "      <td>16.652113</td>\n",
       "      <td>801</td>\n",
       "    </tr>\n",
       "    <tr>\n",
       "      <th>2</th>\n",
       "      <td>1</td>\n",
       "      <td>0</td>\n",
       "      <td>1</td>\n",
       "      <td>0</td>\n",
       "      <td>1</td>\n",
       "      <td>1</td>\n",
       "      <td>1</td>\n",
       "      <td>8.050924</td>\n",
       "      <td>9.47025</td>\n",
       "      <td>43.7273</td>\n",
       "      <td>16.636703</td>\n",
       "      <td>1349</td>\n",
       "    </tr>\n",
       "    <tr>\n",
       "      <th>3</th>\n",
       "      <td>1</td>\n",
       "      <td>0</td>\n",
       "      <td>1</td>\n",
       "      <td>0</td>\n",
       "      <td>2</td>\n",
       "      <td>1</td>\n",
       "      <td>1</td>\n",
       "      <td>8.200000</td>\n",
       "      <td>10.60610</td>\n",
       "      <td>59.0435</td>\n",
       "      <td>10.739832</td>\n",
       "      <td>1562</td>\n",
       "    </tr>\n",
       "    <tr>\n",
       "      <th>4</th>\n",
       "      <td>1</td>\n",
       "      <td>0</td>\n",
       "      <td>1</td>\n",
       "      <td>0</td>\n",
       "      <td>3</td>\n",
       "      <td>1</td>\n",
       "      <td>1</td>\n",
       "      <td>9.305237</td>\n",
       "      <td>11.46350</td>\n",
       "      <td>43.6957</td>\n",
       "      <td>12.522300</td>\n",
       "      <td>1600</td>\n",
       "    </tr>\n",
       "  </tbody>\n",
       "</table>\n",
       "</div>"
      ],
      "text/plain": [
       "   season  yr  mnth  holiday  weekday  workingday  weathersit       temp  \\\n",
       "0       1   0     1        0        6           0           2  14.110847   \n",
       "1       1   0     1        0        0           0           2  14.902598   \n",
       "2       1   0     1        0        1           1           1   8.050924   \n",
       "3       1   0     1        0        2           1           1   8.200000   \n",
       "4       1   0     1        0        3           1           1   9.305237   \n",
       "\n",
       "      atemp      hum  windspeed   cnt  \n",
       "0  18.18125  80.5833  10.749882   985  \n",
       "1  17.68695  69.6087  16.652113   801  \n",
       "2   9.47025  43.7273  16.636703  1349  \n",
       "3  10.60610  59.0435  10.739832  1562  \n",
       "4  11.46350  43.6957  12.522300  1600  "
      ]
     },
     "execution_count": 16,
     "metadata": {},
     "output_type": "execute_result"
    }
   ],
   "source": [
    "day.head()"
   ]
  },
  {
   "cell_type": "code",
   "execution_count": 17,
   "metadata": {},
   "outputs": [],
   "source": [
    "day['season_label'] = day['season'].map({1:'spring',2:'summer',3:'fall',4:'winter'})"
   ]
  },
  {
   "cell_type": "code",
   "execution_count": 18,
   "metadata": {},
   "outputs": [],
   "source": [
    "day['yr_label'] = day['yr'].map({0:'2018',1:'2019'})"
   ]
  },
  {
   "cell_type": "code",
   "execution_count": 19,
   "metadata": {},
   "outputs": [],
   "source": [
    "day['mnth_label'] = day['mnth'].map({1:'january',2:'feburary',3:'march',4:'april',5:'may',6:'june',7:'july',8:'august',9:'september',10:'october',11:'november',12:'december'})"
   ]
  },
  {
   "cell_type": "code",
   "execution_count": 20,
   "metadata": {},
   "outputs": [],
   "source": [
    "day['weekday_label'] = day['weekday'].map({0:'tuesday',1:'wednesday',2:'thursday',3:'friday',4:'saturday',5:'sunday',6:'monday'})"
   ]
  },
  {
   "cell_type": "code",
   "execution_count": 21,
   "metadata": {},
   "outputs": [],
   "source": [
    "day['weathersit_label'] = day['weathersit'].map({1:'clear',2:'mist',3:'rain',4:'heavy rain'})"
   ]
  },
  {
   "cell_type": "code",
   "execution_count": 22,
   "metadata": {},
   "outputs": [],
   "source": [
    "day.drop(['season','yr','mnth','weekday','weathersit'], axis=1,inplace=True)"
   ]
  },
  {
   "cell_type": "code",
   "execution_count": 23,
   "metadata": {},
   "outputs": [
    {
     "data": {
      "text/html": [
       "<div>\n",
       "<style scoped>\n",
       "    .dataframe tbody tr th:only-of-type {\n",
       "        vertical-align: middle;\n",
       "    }\n",
       "\n",
       "    .dataframe tbody tr th {\n",
       "        vertical-align: top;\n",
       "    }\n",
       "\n",
       "    .dataframe thead th {\n",
       "        text-align: right;\n",
       "    }\n",
       "</style>\n",
       "<table border=\"1\" class=\"dataframe\">\n",
       "  <thead>\n",
       "    <tr style=\"text-align: right;\">\n",
       "      <th></th>\n",
       "      <th>holiday</th>\n",
       "      <th>workingday</th>\n",
       "      <th>temp</th>\n",
       "      <th>atemp</th>\n",
       "      <th>hum</th>\n",
       "      <th>windspeed</th>\n",
       "      <th>cnt</th>\n",
       "      <th>season_label</th>\n",
       "      <th>yr_label</th>\n",
       "      <th>mnth_label</th>\n",
       "      <th>weekday_label</th>\n",
       "      <th>weathersit_label</th>\n",
       "    </tr>\n",
       "  </thead>\n",
       "  <tbody>\n",
       "    <tr>\n",
       "      <th>120</th>\n",
       "      <td>0</td>\n",
       "      <td>0</td>\n",
       "      <td>18.518347</td>\n",
       "      <td>22.41020</td>\n",
       "      <td>76.2083</td>\n",
       "      <td>7.125718</td>\n",
       "      <td>3351</td>\n",
       "      <td>summer</td>\n",
       "      <td>2018</td>\n",
       "      <td>may</td>\n",
       "      <td>tuesday</td>\n",
       "      <td>mist</td>\n",
       "    </tr>\n",
       "    <tr>\n",
       "      <th>272</th>\n",
       "      <td>0</td>\n",
       "      <td>1</td>\n",
       "      <td>23.130847</td>\n",
       "      <td>27.24145</td>\n",
       "      <td>64.7500</td>\n",
       "      <td>13.833825</td>\n",
       "      <td>5202</td>\n",
       "      <td>winter</td>\n",
       "      <td>2018</td>\n",
       "      <td>september</td>\n",
       "      <td>sunday</td>\n",
       "      <td>clear</td>\n",
       "    </tr>\n",
       "    <tr>\n",
       "      <th>367</th>\n",
       "      <td>0</td>\n",
       "      <td>1</td>\n",
       "      <td>6.150000</td>\n",
       "      <td>6.31375</td>\n",
       "      <td>44.1250</td>\n",
       "      <td>24.499957</td>\n",
       "      <td>2236</td>\n",
       "      <td>spring</td>\n",
       "      <td>2019</td>\n",
       "      <td>january</td>\n",
       "      <td>thursday</td>\n",
       "      <td>clear</td>\n",
       "    </tr>\n",
       "    <tr>\n",
       "      <th>717</th>\n",
       "      <td>0</td>\n",
       "      <td>1</td>\n",
       "      <td>13.632500</td>\n",
       "      <td>17.10810</td>\n",
       "      <td>62.5417</td>\n",
       "      <td>12.334164</td>\n",
       "      <td>5267</td>\n",
       "      <td>winter</td>\n",
       "      <td>2019</td>\n",
       "      <td>december</td>\n",
       "      <td>friday</td>\n",
       "      <td>clear</td>\n",
       "    </tr>\n",
       "    <tr>\n",
       "      <th>30</th>\n",
       "      <td>0</td>\n",
       "      <td>1</td>\n",
       "      <td>7.414153</td>\n",
       "      <td>9.31250</td>\n",
       "      <td>60.3750</td>\n",
       "      <td>12.541864</td>\n",
       "      <td>1501</td>\n",
       "      <td>spring</td>\n",
       "      <td>2018</td>\n",
       "      <td>january</td>\n",
       "      <td>wednesday</td>\n",
       "      <td>mist</td>\n",
       "    </tr>\n",
       "  </tbody>\n",
       "</table>\n",
       "</div>"
      ],
      "text/plain": [
       "     holiday  workingday       temp     atemp      hum  windspeed   cnt  \\\n",
       "120        0           0  18.518347  22.41020  76.2083   7.125718  3351   \n",
       "272        0           1  23.130847  27.24145  64.7500  13.833825  5202   \n",
       "367        0           1   6.150000   6.31375  44.1250  24.499957  2236   \n",
       "717        0           1  13.632500  17.10810  62.5417  12.334164  5267   \n",
       "30         0           1   7.414153   9.31250  60.3750  12.541864  1501   \n",
       "\n",
       "    season_label yr_label mnth_label weekday_label weathersit_label  \n",
       "120       summer     2018        may       tuesday             mist  \n",
       "272       winter     2018  september        sunday            clear  \n",
       "367       spring     2019    january      thursday            clear  \n",
       "717       winter     2019   december        friday            clear  \n",
       "30        spring     2018    january     wednesday             mist  "
      ]
     },
     "execution_count": 23,
     "metadata": {},
     "output_type": "execute_result"
    }
   ],
   "source": [
    "day.sample(5)"
   ]
  },
  {
   "cell_type": "markdown",
   "metadata": {},
   "source": [
    "- **_Checking the datatypes_**"
   ]
  },
  {
   "cell_type": "code",
   "execution_count": 24,
   "metadata": {},
   "outputs": [
    {
     "name": "stdout",
     "output_type": "stream",
     "text": [
      "<class 'pandas.core.frame.DataFrame'>\n",
      "RangeIndex: 730 entries, 0 to 729\n",
      "Data columns (total 12 columns):\n",
      " #   Column            Non-Null Count  Dtype  \n",
      "---  ------            --------------  -----  \n",
      " 0   holiday           730 non-null    int64  \n",
      " 1   workingday        730 non-null    int64  \n",
      " 2   temp              730 non-null    float64\n",
      " 3   atemp             730 non-null    float64\n",
      " 4   hum               730 non-null    float64\n",
      " 5   windspeed         730 non-null    float64\n",
      " 6   cnt               730 non-null    int64  \n",
      " 7   season_label      730 non-null    object \n",
      " 8   yr_label          730 non-null    object \n",
      " 9   mnth_label        730 non-null    object \n",
      " 10  weekday_label     730 non-null    object \n",
      " 11  weathersit_label  730 non-null    object \n",
      "dtypes: float64(4), int64(3), object(5)\n",
      "memory usage: 68.6+ KB\n"
     ]
    }
   ],
   "source": [
    "day.info()"
   ]
  },
  {
   "cell_type": "code",
   "execution_count": 25,
   "metadata": {},
   "outputs": [],
   "source": [
    "# Converting the categorical variables to type 'category'\n",
    "\n",
    "category = day.columns[7:]\n",
    "\n",
    "day['holiday'] = day['holiday'].astype('category')\n",
    "day['workingday'] = day['workingday'].astype('category')\n",
    "day[category] = day[category].astype('category')"
   ]
  },
  {
   "cell_type": "code",
   "execution_count": 26,
   "metadata": {},
   "outputs": [
    {
     "name": "stdout",
     "output_type": "stream",
     "text": [
      "<class 'pandas.core.frame.DataFrame'>\n",
      "RangeIndex: 730 entries, 0 to 729\n",
      "Data columns (total 12 columns):\n",
      " #   Column            Non-Null Count  Dtype   \n",
      "---  ------            --------------  -----   \n",
      " 0   holiday           730 non-null    category\n",
      " 1   workingday        730 non-null    category\n",
      " 2   temp              730 non-null    float64 \n",
      " 3   atemp             730 non-null    float64 \n",
      " 4   hum               730 non-null    float64 \n",
      " 5   windspeed         730 non-null    float64 \n",
      " 6   cnt               730 non-null    int64   \n",
      " 7   season_label      730 non-null    category\n",
      " 8   yr_label          730 non-null    category\n",
      " 9   mnth_label        730 non-null    category\n",
      " 10  weekday_label     730 non-null    category\n",
      " 11  weathersit_label  730 non-null    category\n",
      "dtypes: category(7), float64(4), int64(1)\n",
      "memory usage: 35.0 KB\n"
     ]
    }
   ],
   "source": [
    "day.info()"
   ]
  },
  {
   "cell_type": "markdown",
   "metadata": {},
   "source": [
    "---\n",
    "## Data Analysis\n",
    "---"
   ]
  },
  {
   "cell_type": "code",
   "execution_count": 27,
   "metadata": {},
   "outputs": [
    {
     "data": {
      "text/html": [
       "<div>\n",
       "<style scoped>\n",
       "    .dataframe tbody tr th:only-of-type {\n",
       "        vertical-align: middle;\n",
       "    }\n",
       "\n",
       "    .dataframe tbody tr th {\n",
       "        vertical-align: top;\n",
       "    }\n",
       "\n",
       "    .dataframe thead th {\n",
       "        text-align: right;\n",
       "    }\n",
       "</style>\n",
       "<table border=\"1\" class=\"dataframe\">\n",
       "  <thead>\n",
       "    <tr style=\"text-align: right;\">\n",
       "      <th></th>\n",
       "      <th>temp</th>\n",
       "      <th>atemp</th>\n",
       "      <th>hum</th>\n",
       "      <th>windspeed</th>\n",
       "      <th>cnt</th>\n",
       "    </tr>\n",
       "  </thead>\n",
       "  <tbody>\n",
       "    <tr>\n",
       "      <th>temp</th>\n",
       "      <td>1.000000</td>\n",
       "      <td>0.991696</td>\n",
       "      <td>0.128565</td>\n",
       "      <td>-0.158186</td>\n",
       "      <td>0.627044</td>\n",
       "    </tr>\n",
       "    <tr>\n",
       "      <th>atemp</th>\n",
       "      <td>0.991696</td>\n",
       "      <td>1.000000</td>\n",
       "      <td>0.141512</td>\n",
       "      <td>-0.183876</td>\n",
       "      <td>0.630685</td>\n",
       "    </tr>\n",
       "    <tr>\n",
       "      <th>hum</th>\n",
       "      <td>0.128565</td>\n",
       "      <td>0.141512</td>\n",
       "      <td>1.000000</td>\n",
       "      <td>-0.248506</td>\n",
       "      <td>-0.098543</td>\n",
       "    </tr>\n",
       "    <tr>\n",
       "      <th>windspeed</th>\n",
       "      <td>-0.158186</td>\n",
       "      <td>-0.183876</td>\n",
       "      <td>-0.248506</td>\n",
       "      <td>1.000000</td>\n",
       "      <td>-0.235132</td>\n",
       "    </tr>\n",
       "    <tr>\n",
       "      <th>cnt</th>\n",
       "      <td>0.627044</td>\n",
       "      <td>0.630685</td>\n",
       "      <td>-0.098543</td>\n",
       "      <td>-0.235132</td>\n",
       "      <td>1.000000</td>\n",
       "    </tr>\n",
       "  </tbody>\n",
       "</table>\n",
       "</div>"
      ],
      "text/plain": [
       "               temp     atemp       hum  windspeed       cnt\n",
       "temp       1.000000  0.991696  0.128565  -0.158186  0.627044\n",
       "atemp      0.991696  1.000000  0.141512  -0.183876  0.630685\n",
       "hum        0.128565  0.141512  1.000000  -0.248506 -0.098543\n",
       "windspeed -0.158186 -0.183876 -0.248506   1.000000 -0.235132\n",
       "cnt        0.627044  0.630685 -0.098543  -0.235132  1.000000"
      ]
     },
     "execution_count": 27,
     "metadata": {},
     "output_type": "execute_result"
    }
   ],
   "source": [
    "day.corr()"
   ]
  },
  {
   "cell_type": "code",
   "execution_count": 28,
   "metadata": {},
   "outputs": [
    {
     "data": {
      "image/png": "[encoded data removed]",
      "text/plain": [
       "<Figure size 864x504 with 2 Axes>"
      ]
     },
     "metadata": {
      "needs_background": "light"
     },
     "output_type": "display_data"
    }
   ],
   "source": [
    "plt.figure(figsize=(12,7))\n",
    "sns.heatmap(day.corr(), annot=True);"
   ]
  },
  {
   "cell_type": "code",
   "execution_count": 29,
   "metadata": {},
   "outputs": [],
   "source": [
    "# num_dtype_ser = day.dtypes\n",
    "# num_list = num_dtype_ser[num_dtype_ser == 'float64'].index\n",
    "# num_list\n",
    "\n",
    "# sns.pairplot(day[num_list])"
   ]
  },
  {
   "cell_type": "code",
   "execution_count": 30,
   "metadata": {},
   "outputs": [
    {
     "data": {
      "text/plain": [
       "<seaborn.axisgrid.PairGrid at 0x1493e306b48>"
      ]
     },
     "execution_count": 30,
     "metadata": {},
     "output_type": "execute_result"
    },
    {
     "data": {
      "image/png": "[encoded data removed]",
      "text/plain": [
       "<Figure size 900x900 with 30 Axes>"
      ]
     },
     "metadata": {
      "needs_background": "light"
     },
     "output_type": "display_data"
    }
   ],
   "source": [
    "# Create scatterplots to visulaize the relationship between quantitave/numerical variables \n",
    "\n",
    "sns.pairplot(day.select_dtypes(include='number'))"
   ]
  },
  {
   "cell_type": "markdown",
   "metadata": {},
   "source": [
    "**_Correlation coefficient for temp and atemp is 0.99, which is quite high and is also visible through scatter-plot_** <br>\n",
    "_NOT dropping the variable temp although there is a strong correlataion between temp and atemp._ <br>\n",
    "_Will be handled in Feature Selection process._"
   ]
  },
  {
   "cell_type": "code",
   "execution_count": 31,
   "metadata": {},
   "outputs": [],
   "source": [
    "# Dropping the variable temp as there is a strong correlataion between temp and atemp\n",
    "\n",
    "# day.drop(['temp'], axis=1, inplace=True)\n"
   ]
  },
  {
   "cell_type": "markdown",
   "metadata": {},
   "source": [
    "- **_atemp variable is somewhat having a linear relationship with cnt, the target variable_** <br>\n",
    "- **_cnt against hum and windspeed does not seem to have good correlation and the points are scattered all around in the plot._** <br>\n",
    "    - _Also evident from heatmap, the Correlation coefficient is **-0.099 for hum vs cnt** and **-0.24 for windspeed vs cnt**, which is on a very low side._ <br>\n",
    "\n",
    "- _**NOT Dropping the variables hum and windspeed** although, there is a **very weak correlataion between them and cnt**, the target variable._ <br>\n",
    "- _Will be handled in Feature Selection process._"
   ]
  },
  {
   "cell_type": "code",
   "execution_count": 32,
   "metadata": {},
   "outputs": [],
   "source": [
    "# Dropping the variable temp as there is a strong correlataion between temp and atemp\n",
    "\n",
    "# day.drop(['hum','windspeed'], axis=1, inplace=True)"
   ]
  },
  {
   "cell_type": "code",
   "execution_count": 33,
   "metadata": {},
   "outputs": [
    {
     "data": {
      "text/plain": [
       "Index(['holiday', 'workingday', 'season_label', 'yr_label', 'mnth_label',\n",
       "       'weekday_label', 'weathersit_label'],\n",
       "      dtype='object')"
      ]
     },
     "execution_count": 33,
     "metadata": {},
     "output_type": "execute_result"
    }
   ],
   "source": [
    "cat_dtype_ser = day.dtypes\n",
    "category_list = cat_dtype_ser[cat_dtype_ser == 'category'].index\n",
    "category_list"
   ]
  },
  {
   "cell_type": "code",
   "execution_count": 34,
   "metadata": {},
   "outputs": [
    {
     "data": {
      "image/png": "[encoded data removed]",
      "text/plain": [
       "<Figure size 1296x1656 with 7 Axes>"
      ]
     },
     "metadata": {
      "needs_background": "light"
     },
     "output_type": "display_data"
    }
   ],
   "source": [
    "plt.figure(figsize=(18, 23))\n",
    "for i,var in enumerate(category_list):\n",
    "    plt.subplot(4,2,i+1)\n",
    "    sns.boxplot(x=var, y='cnt', data=day);\n",
    "plt.show();"
   ]
  },
  {
   "cell_type": "code",
   "execution_count": 35,
   "metadata": {},
   "outputs": [],
   "source": [
    "# sns.catplot(x=\"yr_label\", y=\"cnt\", data=day);"
   ]
  },
  {
   "cell_type": "code",
   "execution_count": 36,
   "metadata": {},
   "outputs": [],
   "source": [
    "# sns.catplot(x=\"weathersit_label\", y=\"cnt\",col=\"yr_label\", data=day);"
   ]
  },
  {
   "cell_type": "code",
   "execution_count": 37,
   "metadata": {},
   "outputs": [],
   "source": [
    "# sns.catplot(x=\"weathersit_label\", y=\"cnt\", hue=\"yr_label\",col = 'holiday', data=day);\n",
    "# sns.catplot(x=\"weathersit_label\", y=\"cnt\", hue=\"yr_label\",col = 'workingday', data=day);\n",
    "# sns.catplot(x=\"weekday_label\", y=\"cnt\", hue=\"yr_label\",col = 'weathersit_label', data=day);"
   ]
  },
  {
   "cell_type": "code",
   "execution_count": 38,
   "metadata": {},
   "outputs": [
    {
     "data": {
      "text/plain": [
       "Index(['holiday', 'workingday', 'season_label', 'yr_label', 'mnth_label',\n",
       "       'weekday_label', 'weathersit_label'],\n",
       "      dtype='object')"
      ]
     },
     "execution_count": 38,
     "metadata": {},
     "output_type": "execute_result"
    }
   ],
   "source": [
    "category_list"
   ]
  },
  {
   "cell_type": "code",
   "execution_count": 39,
   "metadata": {},
   "outputs": [],
   "source": [
    "# def bivariate(x_var, y_var = 'cnt', hue = 'yr_label', data = day):\n",
    "#     ax = sns.catplot(x=x_var, y= y_var, hue= hue, data=data)"
   ]
  },
  {
   "cell_type": "code",
   "execution_count": 40,
   "metadata": {},
   "outputs": [],
   "source": [
    "# plt.figure(figsize=(18, 23));\n",
    "# for i,var in enumerate(category_list):\n",
    "#     bivariate(x_var=var);\n",
    "# plt.show()"
   ]
  },
  {
   "cell_type": "code",
   "execution_count": 41,
   "metadata": {},
   "outputs": [],
   "source": [
    "# bivariate(x_var='season_label');\n",
    "# bivariate(x_var='mnth_label');"
   ]
  },
  {
   "cell_type": "code",
   "execution_count": 42,
   "metadata": {},
   "outputs": [],
   "source": [
    "# bivariate(x_var='holiday');\n",
    "# bivariate(x_var='weekday_label');\n",
    "# bivariate(x_var='workingday');"
   ]
  },
  {
   "cell_type": "markdown",
   "metadata": {},
   "source": [
    "---\n",
    "## Data Preparation for modelling\n",
    "---"
   ]
  },
  {
   "cell_type": "markdown",
   "metadata": {},
   "source": [
    "### Dummy Coding"
   ]
  },
  {
   "cell_type": "code",
   "execution_count": 43,
   "metadata": {},
   "outputs": [
    {
     "data": {
      "text/html": [
       "<div>\n",
       "<style scoped>\n",
       "    .dataframe tbody tr th:only-of-type {\n",
       "        vertical-align: middle;\n",
       "    }\n",
       "\n",
       "    .dataframe tbody tr th {\n",
       "        vertical-align: top;\n",
       "    }\n",
       "\n",
       "    .dataframe thead th {\n",
       "        text-align: right;\n",
       "    }\n",
       "</style>\n",
       "<table border=\"1\" class=\"dataframe\">\n",
       "  <thead>\n",
       "    <tr style=\"text-align: right;\">\n",
       "      <th></th>\n",
       "      <th>holiday</th>\n",
       "      <th>workingday</th>\n",
       "      <th>temp</th>\n",
       "      <th>atemp</th>\n",
       "      <th>hum</th>\n",
       "      <th>windspeed</th>\n",
       "      <th>cnt</th>\n",
       "      <th>season_label</th>\n",
       "      <th>yr_label</th>\n",
       "      <th>mnth_label</th>\n",
       "      <th>weekday_label</th>\n",
       "      <th>weathersit_label</th>\n",
       "    </tr>\n",
       "  </thead>\n",
       "  <tbody>\n",
       "    <tr>\n",
       "      <th>0</th>\n",
       "      <td>0</td>\n",
       "      <td>0</td>\n",
       "      <td>14.110847</td>\n",
       "      <td>18.18125</td>\n",
       "      <td>80.5833</td>\n",
       "      <td>10.749882</td>\n",
       "      <td>985</td>\n",
       "      <td>spring</td>\n",
       "      <td>2018</td>\n",
       "      <td>january</td>\n",
       "      <td>monday</td>\n",
       "      <td>mist</td>\n",
       "    </tr>\n",
       "    <tr>\n",
       "      <th>1</th>\n",
       "      <td>0</td>\n",
       "      <td>0</td>\n",
       "      <td>14.902598</td>\n",
       "      <td>17.68695</td>\n",
       "      <td>69.6087</td>\n",
       "      <td>16.652113</td>\n",
       "      <td>801</td>\n",
       "      <td>spring</td>\n",
       "      <td>2018</td>\n",
       "      <td>january</td>\n",
       "      <td>tuesday</td>\n",
       "      <td>mist</td>\n",
       "    </tr>\n",
       "    <tr>\n",
       "      <th>2</th>\n",
       "      <td>0</td>\n",
       "      <td>1</td>\n",
       "      <td>8.050924</td>\n",
       "      <td>9.47025</td>\n",
       "      <td>43.7273</td>\n",
       "      <td>16.636703</td>\n",
       "      <td>1349</td>\n",
       "      <td>spring</td>\n",
       "      <td>2018</td>\n",
       "      <td>january</td>\n",
       "      <td>wednesday</td>\n",
       "      <td>clear</td>\n",
       "    </tr>\n",
       "    <tr>\n",
       "      <th>3</th>\n",
       "      <td>0</td>\n",
       "      <td>1</td>\n",
       "      <td>8.200000</td>\n",
       "      <td>10.60610</td>\n",
       "      <td>59.0435</td>\n",
       "      <td>10.739832</td>\n",
       "      <td>1562</td>\n",
       "      <td>spring</td>\n",
       "      <td>2018</td>\n",
       "      <td>january</td>\n",
       "      <td>thursday</td>\n",
       "      <td>clear</td>\n",
       "    </tr>\n",
       "    <tr>\n",
       "      <th>4</th>\n",
       "      <td>0</td>\n",
       "      <td>1</td>\n",
       "      <td>9.305237</td>\n",
       "      <td>11.46350</td>\n",
       "      <td>43.6957</td>\n",
       "      <td>12.522300</td>\n",
       "      <td>1600</td>\n",
       "      <td>spring</td>\n",
       "      <td>2018</td>\n",
       "      <td>january</td>\n",
       "      <td>friday</td>\n",
       "      <td>clear</td>\n",
       "    </tr>\n",
       "  </tbody>\n",
       "</table>\n",
       "</div>"
      ],
      "text/plain": [
       "  holiday workingday       temp     atemp      hum  windspeed   cnt  \\\n",
       "0       0          0  14.110847  18.18125  80.5833  10.749882   985   \n",
       "1       0          0  14.902598  17.68695  69.6087  16.652113   801   \n",
       "2       0          1   8.050924   9.47025  43.7273  16.636703  1349   \n",
       "3       0          1   8.200000  10.60610  59.0435  10.739832  1562   \n",
       "4       0          1   9.305237  11.46350  43.6957  12.522300  1600   \n",
       "\n",
       "  season_label yr_label mnth_label weekday_label weathersit_label  \n",
       "0       spring     2018    january        monday             mist  \n",
       "1       spring     2018    january       tuesday             mist  \n",
       "2       spring     2018    january     wednesday            clear  \n",
       "3       spring     2018    january      thursday            clear  \n",
       "4       spring     2018    january        friday            clear  "
      ]
     },
     "execution_count": 43,
     "metadata": {},
     "output_type": "execute_result"
    }
   ],
   "source": [
    "day.head()"
   ]
  },
  {
   "cell_type": "code",
   "execution_count": 44,
   "metadata": {},
   "outputs": [
    {
     "data": {
      "text/html": [
       "<div>\n",
       "<style scoped>\n",
       "    .dataframe tbody tr th:only-of-type {\n",
       "        vertical-align: middle;\n",
       "    }\n",
       "\n",
       "    .dataframe tbody tr th {\n",
       "        vertical-align: top;\n",
       "    }\n",
       "\n",
       "    .dataframe thead th {\n",
       "        text-align: right;\n",
       "    }\n",
       "</style>\n",
       "<table border=\"1\" class=\"dataframe\">\n",
       "  <thead>\n",
       "    <tr style=\"text-align: right;\">\n",
       "      <th></th>\n",
       "      <th>holiday_1</th>\n",
       "      <th>workingday_1</th>\n",
       "      <th>season_label_spring</th>\n",
       "      <th>season_label_summer</th>\n",
       "      <th>season_label_winter</th>\n",
       "      <th>yr_label_2019</th>\n",
       "      <th>mnth_label_august</th>\n",
       "      <th>mnth_label_december</th>\n",
       "      <th>mnth_label_feburary</th>\n",
       "      <th>mnth_label_january</th>\n",
       "      <th>mnth_label_july</th>\n",
       "      <th>mnth_label_june</th>\n",
       "      <th>mnth_label_march</th>\n",
       "      <th>mnth_label_may</th>\n",
       "      <th>mnth_label_november</th>\n",
       "      <th>mnth_label_october</th>\n",
       "      <th>mnth_label_september</th>\n",
       "      <th>weekday_label_monday</th>\n",
       "      <th>weekday_label_saturday</th>\n",
       "      <th>weekday_label_sunday</th>\n",
       "      <th>weekday_label_thursday</th>\n",
       "      <th>weekday_label_tuesday</th>\n",
       "      <th>weekday_label_wednesday</th>\n",
       "      <th>weathersit_label_mist</th>\n",
       "      <th>weathersit_label_rain</th>\n",
       "    </tr>\n",
       "  </thead>\n",
       "  <tbody>\n",
       "    <tr>\n",
       "      <th>122</th>\n",
       "      <td>0</td>\n",
       "      <td>1</td>\n",
       "      <td>0</td>\n",
       "      <td>1</td>\n",
       "      <td>0</td>\n",
       "      <td>0</td>\n",
       "      <td>0</td>\n",
       "      <td>0</td>\n",
       "      <td>0</td>\n",
       "      <td>0</td>\n",
       "      <td>0</td>\n",
       "      <td>0</td>\n",
       "      <td>0</td>\n",
       "      <td>1</td>\n",
       "      <td>0</td>\n",
       "      <td>0</td>\n",
       "      <td>0</td>\n",
       "      <td>0</td>\n",
       "      <td>0</td>\n",
       "      <td>0</td>\n",
       "      <td>1</td>\n",
       "      <td>0</td>\n",
       "      <td>0</td>\n",
       "      <td>1</td>\n",
       "      <td>0</td>\n",
       "    </tr>\n",
       "    <tr>\n",
       "      <th>87</th>\n",
       "      <td>0</td>\n",
       "      <td>1</td>\n",
       "      <td>0</td>\n",
       "      <td>1</td>\n",
       "      <td>0</td>\n",
       "      <td>0</td>\n",
       "      <td>0</td>\n",
       "      <td>0</td>\n",
       "      <td>0</td>\n",
       "      <td>0</td>\n",
       "      <td>0</td>\n",
       "      <td>0</td>\n",
       "      <td>1</td>\n",
       "      <td>0</td>\n",
       "      <td>0</td>\n",
       "      <td>0</td>\n",
       "      <td>0</td>\n",
       "      <td>0</td>\n",
       "      <td>0</td>\n",
       "      <td>0</td>\n",
       "      <td>1</td>\n",
       "      <td>0</td>\n",
       "      <td>0</td>\n",
       "      <td>0</td>\n",
       "      <td>0</td>\n",
       "    </tr>\n",
       "    <tr>\n",
       "      <th>500</th>\n",
       "      <td>0</td>\n",
       "      <td>1</td>\n",
       "      <td>0</td>\n",
       "      <td>1</td>\n",
       "      <td>0</td>\n",
       "      <td>1</td>\n",
       "      <td>0</td>\n",
       "      <td>0</td>\n",
       "      <td>0</td>\n",
       "      <td>0</td>\n",
       "      <td>0</td>\n",
       "      <td>0</td>\n",
       "      <td>0</td>\n",
       "      <td>1</td>\n",
       "      <td>0</td>\n",
       "      <td>0</td>\n",
       "      <td>0</td>\n",
       "      <td>0</td>\n",
       "      <td>0</td>\n",
       "      <td>0</td>\n",
       "      <td>0</td>\n",
       "      <td>0</td>\n",
       "      <td>0</td>\n",
       "      <td>0</td>\n",
       "      <td>0</td>\n",
       "    </tr>\n",
       "    <tr>\n",
       "      <th>288</th>\n",
       "      <td>0</td>\n",
       "      <td>0</td>\n",
       "      <td>0</td>\n",
       "      <td>0</td>\n",
       "      <td>1</td>\n",
       "      <td>0</td>\n",
       "      <td>0</td>\n",
       "      <td>0</td>\n",
       "      <td>0</td>\n",
       "      <td>0</td>\n",
       "      <td>0</td>\n",
       "      <td>0</td>\n",
       "      <td>0</td>\n",
       "      <td>0</td>\n",
       "      <td>0</td>\n",
       "      <td>1</td>\n",
       "      <td>0</td>\n",
       "      <td>0</td>\n",
       "      <td>0</td>\n",
       "      <td>0</td>\n",
       "      <td>0</td>\n",
       "      <td>1</td>\n",
       "      <td>0</td>\n",
       "      <td>0</td>\n",
       "      <td>0</td>\n",
       "    </tr>\n",
       "  </tbody>\n",
       "</table>\n",
       "</div>"
      ],
      "text/plain": [
       "     holiday_1  workingday_1  season_label_spring  season_label_summer  \\\n",
       "122          0             1                    0                    1   \n",
       "87           0             1                    0                    1   \n",
       "500          0             1                    0                    1   \n",
       "288          0             0                    0                    0   \n",
       "\n",
       "     season_label_winter  yr_label_2019  mnth_label_august  \\\n",
       "122                    0              0                  0   \n",
       "87                     0              0                  0   \n",
       "500                    0              1                  0   \n",
       "288                    1              0                  0   \n",
       "\n",
       "     mnth_label_december  mnth_label_feburary  mnth_label_january  \\\n",
       "122                    0                    0                   0   \n",
       "87                     0                    0                   0   \n",
       "500                    0                    0                   0   \n",
       "288                    0                    0                   0   \n",
       "\n",
       "     mnth_label_july  mnth_label_june  mnth_label_march  mnth_label_may  \\\n",
       "122                0                0                 0               1   \n",
       "87                 0                0                 1               0   \n",
       "500                0                0                 0               1   \n",
       "288                0                0                 0               0   \n",
       "\n",
       "     mnth_label_november  mnth_label_october  mnth_label_september  \\\n",
       "122                    0                   0                     0   \n",
       "87                     0                   0                     0   \n",
       "500                    0                   0                     0   \n",
       "288                    0                   1                     0   \n",
       "\n",
       "     weekday_label_monday  weekday_label_saturday  weekday_label_sunday  \\\n",
       "122                     0                       0                     0   \n",
       "87                      0                       0                     0   \n",
       "500                     0                       0                     0   \n",
       "288                     0                       0                     0   \n",
       "\n",
       "     weekday_label_thursday  weekday_label_tuesday  weekday_label_wednesday  \\\n",
       "122                       1                      0                        0   \n",
       "87                        1                      0                        0   \n",
       "500                       0                      0                        0   \n",
       "288                       0                      1                        0   \n",
       "\n",
       "     weathersit_label_mist  weathersit_label_rain  \n",
       "122                      1                      0  \n",
       "87                       0                      0  \n",
       "500                      0                      0  \n",
       "288                      0                      0  "
      ]
     },
     "execution_count": 44,
     "metadata": {},
     "output_type": "execute_result"
    }
   ],
   "source": [
    "# Create the dummy variables for the categorical features\n",
    "\n",
    "# cat_var = ['season_label','yr_label','mnth_label','weekday_label','holiday','workingday','weathersit_label']\n",
    "\n",
    "dummy = pd.get_dummies(day[category_list], drop_first = True)\n",
    "dummy.sample(4)"
   ]
  },
  {
   "cell_type": "code",
   "execution_count": 45,
   "metadata": {},
   "outputs": [],
   "source": [
    "# df.dtypes"
   ]
  },
  {
   "cell_type": "code",
   "execution_count": 46,
   "metadata": {},
   "outputs": [],
   "source": [
    "# df.describe()"
   ]
  },
  {
   "cell_type": "code",
   "execution_count": 47,
   "metadata": {},
   "outputs": [],
   "source": [
    "# Dropping the original categorical features\n",
    "\n",
    "day.drop(category_list,axis=1,inplace=True)"
   ]
  },
  {
   "cell_type": "code",
   "execution_count": 48,
   "metadata": {},
   "outputs": [],
   "source": [
    "# Adding the dummy features to the original day dataframe\n",
    "\n",
    "day = pd.concat([day,dummy], axis=1)"
   ]
  },
  {
   "cell_type": "code",
   "execution_count": 49,
   "metadata": {},
   "outputs": [
    {
     "data": {
      "text/html": [
       "<div>\n",
       "<style scoped>\n",
       "    .dataframe tbody tr th:only-of-type {\n",
       "        vertical-align: middle;\n",
       "    }\n",
       "\n",
       "    .dataframe tbody tr th {\n",
       "        vertical-align: top;\n",
       "    }\n",
       "\n",
       "    .dataframe thead th {\n",
       "        text-align: right;\n",
       "    }\n",
       "</style>\n",
       "<table border=\"1\" class=\"dataframe\">\n",
       "  <thead>\n",
       "    <tr style=\"text-align: right;\">\n",
       "      <th></th>\n",
       "      <th>temp</th>\n",
       "      <th>atemp</th>\n",
       "      <th>hum</th>\n",
       "      <th>windspeed</th>\n",
       "      <th>cnt</th>\n",
       "      <th>holiday_1</th>\n",
       "      <th>workingday_1</th>\n",
       "      <th>season_label_spring</th>\n",
       "      <th>season_label_summer</th>\n",
       "      <th>season_label_winter</th>\n",
       "      <th>yr_label_2019</th>\n",
       "      <th>mnth_label_august</th>\n",
       "      <th>mnth_label_december</th>\n",
       "      <th>mnth_label_feburary</th>\n",
       "      <th>mnth_label_january</th>\n",
       "      <th>mnth_label_july</th>\n",
       "      <th>mnth_label_june</th>\n",
       "      <th>mnth_label_march</th>\n",
       "      <th>mnth_label_may</th>\n",
       "      <th>mnth_label_november</th>\n",
       "      <th>mnth_label_october</th>\n",
       "      <th>mnth_label_september</th>\n",
       "      <th>weekday_label_monday</th>\n",
       "      <th>weekday_label_saturday</th>\n",
       "      <th>weekday_label_sunday</th>\n",
       "      <th>weekday_label_thursday</th>\n",
       "      <th>weekday_label_tuesday</th>\n",
       "      <th>weekday_label_wednesday</th>\n",
       "      <th>weathersit_label_mist</th>\n",
       "      <th>weathersit_label_rain</th>\n",
       "    </tr>\n",
       "  </thead>\n",
       "  <tbody>\n",
       "    <tr>\n",
       "      <th>626</th>\n",
       "      <td>22.652500</td>\n",
       "      <td>27.020200</td>\n",
       "      <td>53.6667</td>\n",
       "      <td>14.416725</td>\n",
       "      <td>7591</td>\n",
       "      <td>0</td>\n",
       "      <td>1</td>\n",
       "      <td>0</td>\n",
       "      <td>0</td>\n",
       "      <td>0</td>\n",
       "      <td>1</td>\n",
       "      <td>0</td>\n",
       "      <td>0</td>\n",
       "      <td>0</td>\n",
       "      <td>0</td>\n",
       "      <td>0</td>\n",
       "      <td>0</td>\n",
       "      <td>0</td>\n",
       "      <td>0</td>\n",
       "      <td>0</td>\n",
       "      <td>0</td>\n",
       "      <td>1</td>\n",
       "      <td>0</td>\n",
       "      <td>0</td>\n",
       "      <td>0</td>\n",
       "      <td>0</td>\n",
       "      <td>0</td>\n",
       "      <td>0</td>\n",
       "      <td>0</td>\n",
       "      <td>0</td>\n",
       "    </tr>\n",
       "    <tr>\n",
       "      <th>532</th>\n",
       "      <td>24.292500</td>\n",
       "      <td>28.598750</td>\n",
       "      <td>59.8750</td>\n",
       "      <td>9.708568</td>\n",
       "      <td>6978</td>\n",
       "      <td>0</td>\n",
       "      <td>0</td>\n",
       "      <td>0</td>\n",
       "      <td>1</td>\n",
       "      <td>0</td>\n",
       "      <td>1</td>\n",
       "      <td>0</td>\n",
       "      <td>0</td>\n",
       "      <td>0</td>\n",
       "      <td>0</td>\n",
       "      <td>0</td>\n",
       "      <td>1</td>\n",
       "      <td>0</td>\n",
       "      <td>0</td>\n",
       "      <td>0</td>\n",
       "      <td>0</td>\n",
       "      <td>0</td>\n",
       "      <td>0</td>\n",
       "      <td>0</td>\n",
       "      <td>0</td>\n",
       "      <td>0</td>\n",
       "      <td>1</td>\n",
       "      <td>0</td>\n",
       "      <td>0</td>\n",
       "      <td>0</td>\n",
       "    </tr>\n",
       "    <tr>\n",
       "      <th>74</th>\n",
       "      <td>14.973897</td>\n",
       "      <td>18.346500</td>\n",
       "      <td>77.6522</td>\n",
       "      <td>13.608839</td>\n",
       "      <td>2192</td>\n",
       "      <td>0</td>\n",
       "      <td>1</td>\n",
       "      <td>1</td>\n",
       "      <td>0</td>\n",
       "      <td>0</td>\n",
       "      <td>0</td>\n",
       "      <td>0</td>\n",
       "      <td>0</td>\n",
       "      <td>0</td>\n",
       "      <td>0</td>\n",
       "      <td>0</td>\n",
       "      <td>0</td>\n",
       "      <td>1</td>\n",
       "      <td>0</td>\n",
       "      <td>0</td>\n",
       "      <td>0</td>\n",
       "      <td>0</td>\n",
       "      <td>0</td>\n",
       "      <td>0</td>\n",
       "      <td>0</td>\n",
       "      <td>0</td>\n",
       "      <td>0</td>\n",
       "      <td>0</td>\n",
       "      <td>1</td>\n",
       "      <td>0</td>\n",
       "    </tr>\n",
       "    <tr>\n",
       "      <th>22</th>\n",
       "      <td>3.957390</td>\n",
       "      <td>4.941955</td>\n",
       "      <td>43.6522</td>\n",
       "      <td>16.522200</td>\n",
       "      <td>986</td>\n",
       "      <td>0</td>\n",
       "      <td>0</td>\n",
       "      <td>1</td>\n",
       "      <td>0</td>\n",
       "      <td>0</td>\n",
       "      <td>0</td>\n",
       "      <td>0</td>\n",
       "      <td>0</td>\n",
       "      <td>0</td>\n",
       "      <td>1</td>\n",
       "      <td>0</td>\n",
       "      <td>0</td>\n",
       "      <td>0</td>\n",
       "      <td>0</td>\n",
       "      <td>0</td>\n",
       "      <td>0</td>\n",
       "      <td>0</td>\n",
       "      <td>0</td>\n",
       "      <td>0</td>\n",
       "      <td>0</td>\n",
       "      <td>0</td>\n",
       "      <td>1</td>\n",
       "      <td>0</td>\n",
       "      <td>0</td>\n",
       "      <td>0</td>\n",
       "    </tr>\n",
       "  </tbody>\n",
       "</table>\n",
       "</div>"
      ],
      "text/plain": [
       "          temp      atemp      hum  windspeed   cnt  holiday_1  workingday_1  \\\n",
       "626  22.652500  27.020200  53.6667  14.416725  7591          0             1   \n",
       "532  24.292500  28.598750  59.8750   9.708568  6978          0             0   \n",
       "74   14.973897  18.346500  77.6522  13.608839  2192          0             1   \n",
       "22    3.957390   4.941955  43.6522  16.522200   986          0             0   \n",
       "\n",
       "     season_label_spring  season_label_summer  season_label_winter  \\\n",
       "626                    0                    0                    0   \n",
       "532                    0                    1                    0   \n",
       "74                     1                    0                    0   \n",
       "22                     1                    0                    0   \n",
       "\n",
       "     yr_label_2019  mnth_label_august  mnth_label_december  \\\n",
       "626              1                  0                    0   \n",
       "532              1                  0                    0   \n",
       "74               0                  0                    0   \n",
       "22               0                  0                    0   \n",
       "\n",
       "     mnth_label_feburary  mnth_label_january  mnth_label_july  \\\n",
       "626                    0                   0                0   \n",
       "532                    0                   0                0   \n",
       "74                     0                   0                0   \n",
       "22                     0                   1                0   \n",
       "\n",
       "     mnth_label_june  mnth_label_march  mnth_label_may  mnth_label_november  \\\n",
       "626                0                 0               0                    0   \n",
       "532                1                 0               0                    0   \n",
       "74                 0                 1               0                    0   \n",
       "22                 0                 0               0                    0   \n",
       "\n",
       "     mnth_label_october  mnth_label_september  weekday_label_monday  \\\n",
       "626                   0                     1                     0   \n",
       "532                   0                     0                     0   \n",
       "74                    0                     0                     0   \n",
       "22                    0                     0                     0   \n",
       "\n",
       "     weekday_label_saturday  weekday_label_sunday  weekday_label_thursday  \\\n",
       "626                       0                     0                       0   \n",
       "532                       0                     0                       0   \n",
       "74                        0                     0                       0   \n",
       "22                        0                     0                       0   \n",
       "\n",
       "     weekday_label_tuesday  weekday_label_wednesday  weathersit_label_mist  \\\n",
       "626                      0                        0                      0   \n",
       "532                      1                        0                      0   \n",
       "74                       0                        0                      1   \n",
       "22                       1                        0                      0   \n",
       "\n",
       "     weathersit_label_rain  \n",
       "626                      0  \n",
       "532                      0  \n",
       "74                       0  \n",
       "22                       0  "
      ]
     },
     "execution_count": 49,
     "metadata": {},
     "output_type": "execute_result"
    }
   ],
   "source": [
    "day.sample(4)"
   ]
  },
  {
   "cell_type": "code",
   "execution_count": 50,
   "metadata": {},
   "outputs": [
    {
     "data": {
      "text/plain": [
       "(730, 30)"
      ]
     },
     "execution_count": 50,
     "metadata": {},
     "output_type": "execute_result"
    }
   ],
   "source": [
    "# Checking the shape of day dataframe\n",
    "\n",
    "day.shape"
   ]
  },
  {
   "cell_type": "markdown",
   "metadata": {},
   "source": [
    "### Splitting the data into training and testing sets"
   ]
  },
  {
   "cell_type": "code",
   "execution_count": 51,
   "metadata": {},
   "outputs": [],
   "source": [
    "# Specify random_state so that the train and test data set always have the same rows, respectively\n",
    "\n",
    "day_train, day_test = train_test_split(day, train_size = 0.7, random_state = 100)"
   ]
  },
  {
   "cell_type": "code",
   "execution_count": 52,
   "metadata": {},
   "outputs": [
    {
     "data": {
      "text/plain": [
       "(510, 30)"
      ]
     },
     "execution_count": 52,
     "metadata": {},
     "output_type": "execute_result"
    }
   ],
   "source": [
    "day_train.shape"
   ]
  },
  {
   "cell_type": "code",
   "execution_count": 53,
   "metadata": {},
   "outputs": [
    {
     "data": {
      "text/plain": [
       "(220, 30)"
      ]
     },
     "execution_count": 53,
     "metadata": {},
     "output_type": "execute_result"
    }
   ],
   "source": [
    "day_test.shape"
   ]
  },
  {
   "cell_type": "markdown",
   "metadata": {},
   "source": [
    "_The train and test data shape looks good._"
   ]
  },
  {
   "cell_type": "markdown",
   "metadata": {},
   "source": [
    "### Feature Scaling"
   ]
  },
  {
   "cell_type": "code",
   "execution_count": 54,
   "metadata": {},
   "outputs": [
    {
     "data": {
      "image/png": "[encoded data removed]",
      "text/plain": [
       "<Figure size 1080x432 with 2 Axes>"
      ]
     },
     "metadata": {
      "needs_background": "light"
     },
     "output_type": "display_data"
    }
   ],
   "source": [
    "plt.figure(figsize=(15,6))\n",
    "plt.subplot(1,2,1);\n",
    "sns.boxplot(x = day.atemp);\n",
    "plt.subplot(1,2,2);\n",
    "sns.histplot(x = day.atemp, kde=True);"
   ]
  },
  {
   "cell_type": "markdown",
   "metadata": {},
   "source": [
    "**_There are no outliers in atemp feature and so we can apply Standardized Scaling, instead of MinMax Scaling._**"
   ]
  },
  {
   "cell_type": "code",
   "execution_count": 55,
   "metadata": {},
   "outputs": [],
   "source": [
    "scaler = StandardScaler()"
   ]
  },
  {
   "cell_type": "markdown",
   "metadata": {},
   "source": [
    "- **_Feature scaling should be done only for numerical features and not for categorical or dummy variables_**"
   ]
  },
  {
   "cell_type": "code",
   "execution_count": 56,
   "metadata": {},
   "outputs": [],
   "source": [
    "# Apply scaler() to all the variables except the 'yes-no' and 'dummy' variables.\n",
    "\n",
    "num_vars = ['atemp', 'cnt']\n",
    "\n",
    "day_train[num_vars] = scaler.fit_transform(day_train[num_vars])"
   ]
  },
  {
   "cell_type": "markdown",
   "metadata": {},
   "source": [
    "_1. Training set should be fit as well transformed._ <br>\n",
    "_2. But the testing set should never be used to fit as this dataset is not available at the time of model building (in real world scenario)._ <br>\n",
    "_3. The testing set should only be transformed with the fit of training set._"
   ]
  },
  {
   "cell_type": "code",
   "execution_count": 57,
   "metadata": {},
   "outputs": [
    {
     "data": {
      "text/html": [
       "<div>\n",
       "<style scoped>\n",
       "    .dataframe tbody tr th:only-of-type {\n",
       "        vertical-align: middle;\n",
       "    }\n",
       "\n",
       "    .dataframe tbody tr th {\n",
       "        vertical-align: top;\n",
       "    }\n",
       "\n",
       "    .dataframe thead th {\n",
       "        text-align: right;\n",
       "    }\n",
       "</style>\n",
       "<table border=\"1\" class=\"dataframe\">\n",
       "  <thead>\n",
       "    <tr style=\"text-align: right;\">\n",
       "      <th></th>\n",
       "      <th>temp</th>\n",
       "      <th>atemp</th>\n",
       "      <th>hum</th>\n",
       "      <th>windspeed</th>\n",
       "      <th>cnt</th>\n",
       "      <th>holiday_1</th>\n",
       "      <th>workingday_1</th>\n",
       "      <th>season_label_spring</th>\n",
       "      <th>season_label_summer</th>\n",
       "      <th>season_label_winter</th>\n",
       "      <th>yr_label_2019</th>\n",
       "      <th>mnth_label_august</th>\n",
       "      <th>mnth_label_december</th>\n",
       "      <th>mnth_label_feburary</th>\n",
       "      <th>mnth_label_january</th>\n",
       "      <th>mnth_label_july</th>\n",
       "      <th>mnth_label_june</th>\n",
       "      <th>mnth_label_march</th>\n",
       "      <th>mnth_label_may</th>\n",
       "      <th>mnth_label_november</th>\n",
       "      <th>mnth_label_october</th>\n",
       "      <th>mnth_label_september</th>\n",
       "      <th>weekday_label_monday</th>\n",
       "      <th>weekday_label_saturday</th>\n",
       "      <th>weekday_label_sunday</th>\n",
       "      <th>weekday_label_thursday</th>\n",
       "      <th>weekday_label_tuesday</th>\n",
       "      <th>weekday_label_wednesday</th>\n",
       "      <th>weathersit_label_mist</th>\n",
       "      <th>weathersit_label_rain</th>\n",
       "    </tr>\n",
       "  </thead>\n",
       "  <tbody>\n",
       "    <tr>\n",
       "      <th>414</th>\n",
       "      <td>11.480000</td>\n",
       "      <td>-1.263250</td>\n",
       "      <td>51.5833</td>\n",
       "      <td>16.958504</td>\n",
       "      <td>-0.921788</td>\n",
       "      <td>0</td>\n",
       "      <td>0</td>\n",
       "      <td>1</td>\n",
       "      <td>0</td>\n",
       "      <td>0</td>\n",
       "      <td>1</td>\n",
       "      <td>0</td>\n",
       "      <td>0</td>\n",
       "      <td>1</td>\n",
       "      <td>0</td>\n",
       "      <td>0</td>\n",
       "      <td>0</td>\n",
       "      <td>0</td>\n",
       "      <td>0</td>\n",
       "      <td>0</td>\n",
       "      <td>0</td>\n",
       "      <td>0</td>\n",
       "      <td>0</td>\n",
       "      <td>0</td>\n",
       "      <td>0</td>\n",
       "      <td>0</td>\n",
       "      <td>1</td>\n",
       "      <td>0</td>\n",
       "      <td>1</td>\n",
       "      <td>0</td>\n",
       "    </tr>\n",
       "    <tr>\n",
       "      <th>456</th>\n",
       "      <td>17.790433</td>\n",
       "      <td>-0.262852</td>\n",
       "      <td>50.4348</td>\n",
       "      <td>20.913313</td>\n",
       "      <td>0.744406</td>\n",
       "      <td>0</td>\n",
       "      <td>1</td>\n",
       "      <td>0</td>\n",
       "      <td>1</td>\n",
       "      <td>0</td>\n",
       "      <td>1</td>\n",
       "      <td>0</td>\n",
       "      <td>0</td>\n",
       "      <td>0</td>\n",
       "      <td>0</td>\n",
       "      <td>0</td>\n",
       "      <td>0</td>\n",
       "      <td>0</td>\n",
       "      <td>0</td>\n",
       "      <td>0</td>\n",
       "      <td>0</td>\n",
       "      <td>0</td>\n",
       "      <td>0</td>\n",
       "      <td>0</td>\n",
       "      <td>0</td>\n",
       "      <td>0</td>\n",
       "      <td>0</td>\n",
       "      <td>1</td>\n",
       "      <td>0</td>\n",
       "      <td>0</td>\n",
       "    </tr>\n",
       "    <tr>\n",
       "      <th>631</th>\n",
       "      <td>21.080847</td>\n",
       "      <td>0.201084</td>\n",
       "      <td>49.2917</td>\n",
       "      <td>9.541068</td>\n",
       "      <td>1.514129</td>\n",
       "      <td>0</td>\n",
       "      <td>1</td>\n",
       "      <td>0</td>\n",
       "      <td>0</td>\n",
       "      <td>1</td>\n",
       "      <td>1</td>\n",
       "      <td>0</td>\n",
       "      <td>0</td>\n",
       "      <td>0</td>\n",
       "      <td>0</td>\n",
       "      <td>0</td>\n",
       "      <td>0</td>\n",
       "      <td>0</td>\n",
       "      <td>0</td>\n",
       "      <td>0</td>\n",
       "      <td>0</td>\n",
       "      <td>1</td>\n",
       "      <td>0</td>\n",
       "      <td>0</td>\n",
       "      <td>0</td>\n",
       "      <td>0</td>\n",
       "      <td>0</td>\n",
       "      <td>1</td>\n",
       "      <td>0</td>\n",
       "      <td>0</td>\n",
       "    </tr>\n",
       "    <tr>\n",
       "      <th>303</th>\n",
       "      <td>13.940000</td>\n",
       "      <td>-0.704827</td>\n",
       "      <td>70.3333</td>\n",
       "      <td>7.125450</td>\n",
       "      <td>-0.418902</td>\n",
       "      <td>0</td>\n",
       "      <td>1</td>\n",
       "      <td>0</td>\n",
       "      <td>0</td>\n",
       "      <td>1</td>\n",
       "      <td>0</td>\n",
       "      <td>0</td>\n",
       "      <td>0</td>\n",
       "      <td>0</td>\n",
       "      <td>0</td>\n",
       "      <td>0</td>\n",
       "      <td>0</td>\n",
       "      <td>0</td>\n",
       "      <td>0</td>\n",
       "      <td>0</td>\n",
       "      <td>1</td>\n",
       "      <td>0</td>\n",
       "      <td>0</td>\n",
       "      <td>0</td>\n",
       "      <td>0</td>\n",
       "      <td>0</td>\n",
       "      <td>0</td>\n",
       "      <td>1</td>\n",
       "      <td>0</td>\n",
       "      <td>0</td>\n",
       "    </tr>\n",
       "    <tr>\n",
       "      <th>76</th>\n",
       "      <td>22.140000</td>\n",
       "      <td>0.352611</td>\n",
       "      <td>52.5217</td>\n",
       "      <td>15.478139</td>\n",
       "      <td>-0.639556</td>\n",
       "      <td>0</td>\n",
       "      <td>1</td>\n",
       "      <td>1</td>\n",
       "      <td>0</td>\n",
       "      <td>0</td>\n",
       "      <td>0</td>\n",
       "      <td>0</td>\n",
       "      <td>0</td>\n",
       "      <td>0</td>\n",
       "      <td>0</td>\n",
       "      <td>0</td>\n",
       "      <td>0</td>\n",
       "      <td>1</td>\n",
       "      <td>0</td>\n",
       "      <td>0</td>\n",
       "      <td>0</td>\n",
       "      <td>0</td>\n",
       "      <td>0</td>\n",
       "      <td>0</td>\n",
       "      <td>1</td>\n",
       "      <td>0</td>\n",
       "      <td>0</td>\n",
       "      <td>0</td>\n",
       "      <td>0</td>\n",
       "      <td>0</td>\n",
       "    </tr>\n",
       "  </tbody>\n",
       "</table>\n",
       "</div>"
      ],
      "text/plain": [
       "          temp     atemp      hum  windspeed       cnt  holiday_1  \\\n",
       "414  11.480000 -1.263250  51.5833  16.958504 -0.921788          0   \n",
       "456  17.790433 -0.262852  50.4348  20.913313  0.744406          0   \n",
       "631  21.080847  0.201084  49.2917   9.541068  1.514129          0   \n",
       "303  13.940000 -0.704827  70.3333   7.125450 -0.418902          0   \n",
       "76   22.140000  0.352611  52.5217  15.478139 -0.639556          0   \n",
       "\n",
       "     workingday_1  season_label_spring  season_label_summer  \\\n",
       "414             0                    1                    0   \n",
       "456             1                    0                    1   \n",
       "631             1                    0                    0   \n",
       "303             1                    0                    0   \n",
       "76              1                    1                    0   \n",
       "\n",
       "     season_label_winter  yr_label_2019  mnth_label_august  \\\n",
       "414                    0              1                  0   \n",
       "456                    0              1                  0   \n",
       "631                    1              1                  0   \n",
       "303                    1              0                  0   \n",
       "76                     0              0                  0   \n",
       "\n",
       "     mnth_label_december  mnth_label_feburary  mnth_label_january  \\\n",
       "414                    0                    1                   0   \n",
       "456                    0                    0                   0   \n",
       "631                    0                    0                   0   \n",
       "303                    0                    0                   0   \n",
       "76                     0                    0                   0   \n",
       "\n",
       "     mnth_label_july  mnth_label_june  mnth_label_march  mnth_label_may  \\\n",
       "414                0                0                 0               0   \n",
       "456                0                0                 0               0   \n",
       "631                0                0                 0               0   \n",
       "303                0                0                 0               0   \n",
       "76                 0                0                 1               0   \n",
       "\n",
       "     mnth_label_november  mnth_label_october  mnth_label_september  \\\n",
       "414                    0                   0                     0   \n",
       "456                    0                   0                     0   \n",
       "631                    0                   0                     1   \n",
       "303                    0                   1                     0   \n",
       "76                     0                   0                     0   \n",
       "\n",
       "     weekday_label_monday  weekday_label_saturday  weekday_label_sunday  \\\n",
       "414                     0                       0                     0   \n",
       "456                     0                       0                     0   \n",
       "631                     0                       0                     0   \n",
       "303                     0                       0                     0   \n",
       "76                      0                       0                     1   \n",
       "\n",
       "     weekday_label_thursday  weekday_label_tuesday  weekday_label_wednesday  \\\n",
       "414                       0                      1                        0   \n",
       "456                       0                      0                        1   \n",
       "631                       0                      0                        1   \n",
       "303                       0                      0                        1   \n",
       "76                        0                      0                        0   \n",
       "\n",
       "     weathersit_label_mist  weathersit_label_rain  \n",
       "414                      1                      0  \n",
       "456                      0                      0  \n",
       "631                      0                      0  \n",
       "303                      0                      0  \n",
       "76                       0                      0  "
      ]
     },
     "execution_count": 57,
     "metadata": {},
     "output_type": "execute_result"
    }
   ],
   "source": [
    "day_train.sample(5)"
   ]
  },
  {
   "cell_type": "markdown",
   "metadata": {},
   "source": [
    "### Splitting the targets into X and y sets for the model building"
   ]
  },
  {
   "cell_type": "code",
   "execution_count": 58,
   "metadata": {},
   "outputs": [],
   "source": [
    "y_train = day_train.pop('cnt')\n",
    "X_train = day_train"
   ]
  },
  {
   "cell_type": "code",
   "execution_count": 59,
   "metadata": {},
   "outputs": [],
   "source": [
    "# y_train[10:15]\n",
    "# X_train.sample(4)"
   ]
  },
  {
   "cell_type": "markdown",
   "metadata": {},
   "source": [
    "---\n",
    "## Building a Linear Regession Model\n",
    "---"
   ]
  },
  {
   "cell_type": "markdown",
   "metadata": {},
   "source": [
    "- **Algorithm Introduction:**\n",
    "\n",
    "    - **_Linear Regression or Ordinary Least Squares Regression (OLS)_** is one of the simplest machine learning algorithms and produces both accurate and interpretable results on most types of continuous data.<br>\n",
    "    - While more sophisticated algorithms like random forest will produce more accurate results, they are know as “black box” models because it’s tough for analysts to interpret the model.<br>\n",
    "    - In contrast, **_OLS regression results are clearly interpretable because each predictor value (beta) is assigned a numeric value (coefficient) and a measure of significance for that variable (p-value)_**. This allows us to interpret the effect of difference predictors on the model and tune it easily.\n",
    "\n",
    "    - Equation of linear regression<br>\n",
    "        - $y = c + m_1x_1 + m_2x_2 + ... + m_nx_n$\n",
    "\n",
    "            -  $y$ is the response\n",
    "            -  $c$ is the intercept\n",
    "            -  $m_1$ is the coefficient for the first feature\n",
    "            -  $m_n$ is the coefficient for the nth feature<br>\n",
    "\n",
    "    - The $m$ values are called the model **coefficients** or **model parameters**."
   ]
  },
  {
   "cell_type": "code",
   "execution_count": 60,
   "metadata": {},
   "outputs": [
    {
     "data": {
      "text/plain": [
       "const                     -0.691932\n",
       "temp                       0.052593\n",
       "atemp                      0.055885\n",
       "hum                       -0.006987\n",
       "windspeed                 -0.026277\n",
       "holiday_1                 -0.408848\n",
       "workingday_1              -0.028026\n",
       "season_label_spring       -0.202295\n",
       "season_label_summer        0.188979\n",
       "season_label_winter        0.477610\n",
       "yr_label_2019              1.037190\n",
       "mnth_label_august          0.099331\n",
       "mnth_label_december       -0.197476\n",
       "mnth_label_feburary       -0.144139\n",
       "mnth_label_january        -0.281284\n",
       "mnth_label_july           -0.145658\n",
       "mnth_label_june            0.026815\n",
       "mnth_label_march           0.006934\n",
       "mnth_label_may             0.113919\n",
       "mnth_label_november       -0.177602\n",
       "mnth_label_october         0.034404\n",
       "mnth_label_september       0.386977\n",
       "weekday_label_monday      -0.006613\n",
       "weekday_label_saturday    -0.017097\n",
       "weekday_label_sunday       0.026302\n",
       "weekday_label_thursday    -0.055940\n",
       "weekday_label_tuesday     -0.248445\n",
       "weekday_label_wednesday   -0.070148\n",
       "weathersit_label_mist     -0.265479\n",
       "weathersit_label_rain     -1.137264\n",
       "dtype: float64"
      ]
     },
     "execution_count": 60,
     "metadata": {},
     "output_type": "execute_result"
    }
   ],
   "source": [
    "# Building a Linear Model\n",
    "\n",
    "# By default, the statsmodels library fits a line on the dataset which passes through the origin.\n",
    "# But in order to have an intercept, we need to manually use the add_constant attribute of statsmodels. \n",
    "# Add a constant to get an intercept\n",
    "X_train_cn = sm.add_constant(X_train)\n",
    "\n",
    "# Fit the resgression line using 'OLS'\n",
    "model = sm.OLS(y_train, X_train_cn)\n",
    "res = model.fit()\n",
    "\n",
    "# Print the parameters, i.e. the intercept and the slope of the regression line fitted\n",
    "res.params"
   ]
  },
  {
   "cell_type": "code",
   "execution_count": 61,
   "metadata": {},
   "outputs": [
    {
     "name": "stdout",
     "output_type": "stream",
     "text": [
      "                            OLS Regression Results                            \n",
      "==============================================================================\n",
      "Dep. Variable:                    cnt   R-squared:                       0.853\n",
      "Model:                            OLS   Adj. R-squared:                  0.844\n",
      "Method:                 Least Squares   F-statistic:                     99.37\n",
      "Date:                Mon, 02 Nov 2020   Prob (F-statistic):          2.81e-180\n",
      "Time:                        23:22:28   Log-Likelihood:                -235.44\n",
      "No. Observations:                 510   AIC:                             528.9\n",
      "Df Residuals:                     481   BIC:                             651.7\n",
      "Df Model:                          28                                         \n",
      "Covariance Type:            nonrobust                                         \n",
      "===========================================================================================\n",
      "                              coef    std err          t      P>|t|      [0.025      0.975]\n",
      "-------------------------------------------------------------------------------------------\n",
      "const                      -0.6919      0.333     -2.081      0.038      -1.345      -0.039\n",
      "temp                        0.0526      0.019      2.727      0.007       0.015       0.090\n",
      "atemp                       0.0559      0.131      0.426      0.670      -0.202       0.313\n",
      "hum                        -0.0070      0.002     -3.938      0.000      -0.010      -0.004\n",
      "windspeed                  -0.0263      0.004     -6.962      0.000      -0.034      -0.019\n",
      "holiday_1                  -0.4088      0.134     -3.044      0.002      -0.673      -0.145\n",
      "workingday_1               -0.0280      0.089     -0.313      0.754      -0.204       0.148\n",
      "season_label_spring        -0.2023      0.134     -1.511      0.131      -0.465       0.061\n",
      "season_label_summer         0.1890      0.117      1.617      0.107      -0.041       0.419\n",
      "season_label_winter         0.4776      0.125      3.826      0.000       0.232       0.723\n",
      "yr_label_2019               1.0372      0.036     28.794      0.000       0.966       1.108\n",
      "mnth_label_august           0.0993      0.151      0.657      0.511      -0.198       0.396\n",
      "mnth_label_december        -0.1975      0.150     -1.316      0.189      -0.492       0.097\n",
      "mnth_label_feburary        -0.1441      0.147     -0.980      0.327      -0.433       0.145\n",
      "mnth_label_january         -0.2813      0.150     -1.876      0.061      -0.576       0.013\n",
      "mnth_label_july            -0.1457      0.156     -0.931      0.352      -0.453       0.162\n",
      "mnth_label_june             0.0268      0.111      0.241      0.810      -0.192       0.246\n",
      "mnth_label_march            0.0069      0.110      0.063      0.950      -0.209       0.223\n",
      "mnth_label_may              0.1139      0.094      1.208      0.228      -0.071       0.299\n",
      "mnth_label_november        -0.1776      0.162     -1.093      0.275      -0.497       0.142\n",
      "mnth_label_october          0.0344      0.160      0.215      0.830      -0.280       0.349\n",
      "mnth_label_september        0.3870      0.143      2.711      0.007       0.106       0.667\n",
      "weekday_label_monday       -0.0066      0.093     -0.071      0.943      -0.189       0.176\n",
      "weekday_label_saturday     -0.0171      0.066     -0.261      0.794      -0.146       0.112\n",
      "weekday_label_sunday        0.0263      0.067      0.394      0.694      -0.105       0.157\n",
      "weekday_label_thursday     -0.0559      0.066     -0.851      0.395      -0.185       0.073\n",
      "weekday_label_tuesday      -0.2484      0.093     -2.657      0.008      -0.432      -0.065\n",
      "weekday_label_wednesday    -0.0701      0.065     -1.074      0.283      -0.198       0.058\n",
      "weathersit_label_mist      -0.2655      0.047     -5.701      0.000      -0.357      -0.174\n",
      "weathersit_label_rain      -1.1373      0.118     -9.631      0.000      -1.369      -0.905\n",
      "==============================================================================\n",
      "Omnibus:                       84.490   Durbin-Watson:                   2.050\n",
      "Prob(Omnibus):                  0.000   Jarque-Bera (JB):              234.656\n",
      "Skew:                          -0.805   Prob(JB):                     1.11e-51\n",
      "Kurtosis:                       5.907   Cond. No.                     8.85e+15\n",
      "==============================================================================\n",
      "\n",
      "Warnings:\n",
      "[1] Standard Errors assume that the covariance matrix of the errors is correctly specified.\n",
      "[2] The smallest eigenvalue is 3.09e-26. This might indicate that there are\n",
      "strong multicollinearity problems or that the design matrix is singular.\n"
     ]
    }
   ],
   "source": [
    "# Performing a summary operation lists out all the different parameters of the regression line fitted\n",
    "\n",
    "print(res.summary())"
   ]
  },
  {
   "cell_type": "markdown",
   "metadata": {},
   "source": [
    "- **_Looking at the p-values, it looks like some of the variables aren't really significant (in the presence of other variables)._**\n",
    "\n",
    "    - _We could simply drop the variable with the highest, non-significant p value. **A better way would be to cross-verify this with the VIF information.**_"
   ]
  },
  {
   "cell_type": "markdown",
   "metadata": {},
   "source": [
    "- **_Colinearity is the state where two variables are highly correlated and contain similiar information about the variance within a given dataset. To detect colinearity among variables, simply create a correlation matrix and find variables with large absolute values._**\n",
    "\n",
    "- **_Multicolinearity on the other hand is more troublesome to detect because it emerges when three or more variables, which are highly correlated, are included within a model. To make matters worst multicolinearity can emerge even when isolated pairs of variables are not colinear._**\n",
    "\n",
    "    - _Multicollinearity will **not affect the model's output or prediction strength.**_\n",
    "    - _Multicollinearity will **only affect the coefficient values** for the predictor variables by inflating their importance._"
   ]
  },
  {
   "cell_type": "markdown",
   "metadata": {},
   "source": [
    "### Feature Selection with scikit learn RFE"
   ]
  },
  {
   "cell_type": "code",
   "execution_count": 62,
   "metadata": {},
   "outputs": [],
   "source": [
    "# Importing RFE and LinearRegression\n",
    "\n",
    "from sklearn.feature_selection import RFE\n",
    "from sklearn.linear_model import LinearRegression"
   ]
  },
  {
   "cell_type": "code",
   "execution_count": 63,
   "metadata": {},
   "outputs": [
    {
     "data": {
      "text/plain": [
       "LinearRegression(copy_X=True, fit_intercept=True, n_jobs=None, normalize=False)"
      ]
     },
     "execution_count": 63,
     "metadata": {},
     "output_type": "execute_result"
    }
   ],
   "source": [
    "# Running RFE with the output number of the variable equal to 10\n",
    "\n",
    "# Create linear regression object\n",
    "sk_model = LinearRegression()\n",
    "\n",
    "# Train the model using the training sets\n",
    "sk_model.fit(X_train, y_train)"
   ]
  },
  {
   "cell_type": "code",
   "execution_count": 64,
   "metadata": {},
   "outputs": [],
   "source": [
    "# Running RFE\n",
    "\n",
    "# Create the RFE object\n",
    "rfe = RFE(sk_model, n_features_to_select = 14)\n",
    "\n",
    "rfe = rfe.fit(X_train, y_train)"
   ]
  },
  {
   "cell_type": "code",
   "execution_count": 65,
   "metadata": {},
   "outputs": [
    {
     "data": {
      "text/plain": [
       "[('temp', False, 11),\n",
       " ('atemp', True, 1),\n",
       " ('hum', False, 15),\n",
       " ('windspeed', False, 12),\n",
       " ('holiday_1', False, 4),\n",
       " ('workingday_1', True, 1),\n",
       " ('season_label_spring', True, 1),\n",
       " ('season_label_summer', False, 5),\n",
       " ('season_label_winter', True, 1),\n",
       " ('yr_label_2019', True, 1),\n",
       " ('mnth_label_august', False, 3),\n",
       " ('mnth_label_december', True, 1),\n",
       " ('mnth_label_feburary', True, 1),\n",
       " ('mnth_label_january', True, 1),\n",
       " ('mnth_label_july', False, 10),\n",
       " ('mnth_label_june', False, 2),\n",
       " ('mnth_label_march', False, 16),\n",
       " ('mnth_label_may', True, 1),\n",
       " ('mnth_label_november', True, 1),\n",
       " ('mnth_label_october', False, 13),\n",
       " ('mnth_label_september', True, 1),\n",
       " ('weekday_label_monday', True, 1),\n",
       " ('weekday_label_saturday', False, 14),\n",
       " ('weekday_label_sunday', False, 9),\n",
       " ('weekday_label_thursday', False, 8),\n",
       " ('weekday_label_tuesday', False, 6),\n",
       " ('weekday_label_wednesday', False, 7),\n",
       " ('weathersit_label_mist', True, 1),\n",
       " ('weathersit_label_rain', True, 1)]"
      ]
     },
     "execution_count": 65,
     "metadata": {},
     "output_type": "execute_result"
    }
   ],
   "source": [
    "# Features with rfe.support_ values\n",
    "\n",
    "list(zip(X_train.columns,rfe.support_,rfe.ranking_))"
   ]
  },
  {
   "cell_type": "code",
   "execution_count": 66,
   "metadata": {},
   "outputs": [
    {
     "data": {
      "text/plain": [
       "Index(['atemp', 'workingday_1', 'season_label_spring', 'season_label_winter',\n",
       "       'yr_label_2019', 'mnth_label_december', 'mnth_label_feburary',\n",
       "       'mnth_label_january', 'mnth_label_may', 'mnth_label_november',\n",
       "       'mnth_label_september', 'weekday_label_monday', 'weathersit_label_mist',\n",
       "       'weathersit_label_rain'],\n",
       "      dtype='object')"
      ]
     },
     "execution_count": 66,
     "metadata": {},
     "output_type": "execute_result"
    },
    {
     "data": {
      "text/plain": [
       "Index(['temp', 'hum', 'windspeed', 'holiday_1', 'season_label_summer',\n",
       "       'mnth_label_august', 'mnth_label_july', 'mnth_label_june',\n",
       "       'mnth_label_march', 'mnth_label_october', 'weekday_label_saturday',\n",
       "       'weekday_label_sunday', 'weekday_label_thursday',\n",
       "       'weekday_label_tuesday', 'weekday_label_wednesday'],\n",
       "      dtype='object')"
      ]
     },
     "execution_count": 66,
     "metadata": {},
     "output_type": "execute_result"
    }
   ],
   "source": [
    "# Creating a list of rfe supported features\n",
    "feats = X_train.columns[rfe.support_]\n",
    "feats\n",
    "\n",
    "# Creating a list of non-supported rfe features\n",
    "drop_feats = X_train.columns[~rfe.support_]\n",
    "drop_feats"
   ]
  },
  {
   "cell_type": "markdown",
   "metadata": {},
   "source": [
    "### Dropping the features and updating the Model"
   ]
  },
  {
   "cell_type": "code",
   "execution_count": 67,
   "metadata": {},
   "outputs": [
    {
     "data": {
      "text/plain": [
       "(510, 29)"
      ]
     },
     "execution_count": 67,
     "metadata": {},
     "output_type": "execute_result"
    }
   ],
   "source": [
    "X_train.shape"
   ]
  },
  {
   "cell_type": "code",
   "execution_count": 68,
   "metadata": {},
   "outputs": [],
   "source": [
    "# Creating X_train dataframe with RFE selected variables\n",
    "\n",
    "X_train.drop(drop_feats,axis=1,inplace=True)"
   ]
  },
  {
   "cell_type": "code",
   "execution_count": 69,
   "metadata": {},
   "outputs": [
    {
     "data": {
      "text/plain": [
       "(510, 14)"
      ]
     },
     "execution_count": 69,
     "metadata": {},
     "output_type": "execute_result"
    }
   ],
   "source": [
    "X_train.shape"
   ]
  },
  {
   "cell_type": "code",
   "execution_count": 70,
   "metadata": {},
   "outputs": [
    {
     "data": {
      "text/plain": [
       "const                   -0.525482\n",
       "atemp                    0.378906\n",
       "workingday_1             0.247343\n",
       "season_label_spring     -0.409435\n",
       "season_label_winter      0.344951\n",
       "yr_label_2019            1.055730\n",
       "mnth_label_december     -0.252992\n",
       "mnth_label_feburary     -0.185448\n",
       "mnth_label_january      -0.298412\n",
       "mnth_label_may           0.156524\n",
       "mnth_label_november     -0.264034\n",
       "mnth_label_september     0.326597\n",
       "weekday_label_monday     0.284901\n",
       "weathersit_label_mist   -0.358984\n",
       "weathersit_label_rain   -1.378817\n",
       "dtype: float64"
      ]
     },
     "execution_count": 70,
     "metadata": {},
     "output_type": "execute_result"
    }
   ],
   "source": [
    "# Building a Linear Model\n",
    "\n",
    "# By default, the statsmodels library fits a line on the dataset which passes through the origin.\n",
    "# But in order to have an intercept, we need to manually use the add_constant attribute of statsmodels. \n",
    "# Add a constant to get an intercept\n",
    "X_train_cn = sm.add_constant(X_train)\n",
    "\n",
    "# Fit the resgression line using 'OLS'\n",
    "model = sm.OLS(y_train, X_train_cn)\n",
    "res = model.fit()\n",
    "\n",
    "# Print the parameters, i.e. the intercept and the slope of the regression line fitted\n",
    "res.params"
   ]
  },
  {
   "cell_type": "code",
   "execution_count": 71,
   "metadata": {},
   "outputs": [
    {
     "name": "stdout",
     "output_type": "stream",
     "text": [
      "                            OLS Regression Results                            \n",
      "==============================================================================\n",
      "Dep. Variable:                    cnt   R-squared:                       0.830\n",
      "Model:                            OLS   Adj. R-squared:                  0.825\n",
      "Method:                 Least Squares   F-statistic:                     172.3\n",
      "Date:                Mon, 02 Nov 2020   Prob (F-statistic):          5.81e-180\n",
      "Time:                        23:22:28   Log-Likelihood:                -272.22\n",
      "No. Observations:                 510   AIC:                             574.4\n",
      "Df Residuals:                     495   BIC:                             638.0\n",
      "Df Model:                          14                                         \n",
      "Covariance Type:            nonrobust                                         \n",
      "=========================================================================================\n",
      "                            coef    std err          t      P>|t|      [0.025      0.975]\n",
      "-----------------------------------------------------------------------------------------\n",
      "const                    -0.5255      0.061     -8.657      0.000      -0.645      -0.406\n",
      "atemp                     0.3789      0.031     12.257      0.000       0.318       0.440\n",
      "workingday_1              0.2473      0.051      4.857      0.000       0.147       0.347\n",
      "season_label_spring      -0.4094      0.081     -5.049      0.000      -0.569      -0.250\n",
      "season_label_winter       0.3450      0.065      5.271      0.000       0.216       0.474\n",
      "yr_label_2019             1.0557      0.037     28.176      0.000       0.982       1.129\n",
      "mnth_label_december      -0.2530      0.083     -3.061      0.002      -0.415      -0.091\n",
      "mnth_label_feburary      -0.1854      0.100     -1.853      0.065      -0.382       0.011\n",
      "mnth_label_january       -0.2984      0.096     -3.096      0.002      -0.488      -0.109\n",
      "mnth_label_may            0.1565      0.071      2.194      0.029       0.016       0.297\n",
      "mnth_label_november      -0.2640      0.087     -3.050      0.002      -0.434      -0.094\n",
      "mnth_label_september      0.3266      0.071      4.584      0.000       0.187       0.467\n",
      "weekday_label_monday      0.2849      0.066      4.336      0.000       0.156       0.414\n",
      "weathersit_label_mist    -0.3590      0.040     -8.970      0.000      -0.438      -0.280\n",
      "weathersit_label_rain    -1.3788      0.113    -12.216      0.000      -1.601      -1.157\n",
      "==============================================================================\n",
      "Omnibus:                       97.093   Durbin-Watson:                   2.041\n",
      "Prob(Omnibus):                  0.000   Jarque-Bera (JB):              325.575\n",
      "Skew:                          -0.859   Prob(JB):                     2.01e-71\n",
      "Kurtosis:                       6.517   Cond. No.                         10.9\n",
      "==============================================================================\n",
      "\n",
      "Warnings:\n",
      "[1] Standard Errors assume that the covariance matrix of the errors is correctly specified.\n"
     ]
    }
   ],
   "source": [
    "# Performing a summary operation lists out all the different parameters of the regression line fitted\n",
    "\n",
    "print(res.summary())"
   ]
  },
  {
   "cell_type": "markdown",
   "metadata": {},
   "source": [
    "### Checking VIF\n",
    "\n",
    "- Variance Inflation Factor or VIF, gives a basic quantitative idea about **how much the feature variables (independent/predictor) are correlated with each other.**<br>\n",
    "- It is an extremely important parameter to test our linear model. The formula for calculating `VIF` is:\n",
    "\n",
    "- $ VIF_i = \\frac{1}{1 - {R_i}^2} $"
   ]
  },
  {
   "cell_type": "code",
   "execution_count": 72,
   "metadata": {},
   "outputs": [],
   "source": [
    "# Check for the VIF values of the feature variables. \n",
    "from statsmodels.stats.outliers_influence import variance_inflation_factor"
   ]
  },
  {
   "cell_type": "code",
   "execution_count": 73,
   "metadata": {},
   "outputs": [],
   "source": [
    "# Custom function to create a dataframe that will contain the names of all the feature variables and their respective VIFs\n",
    "\n",
    "def vif():\n",
    "    vif = pd.DataFrame()\n",
    "    vif['Features'] = X_train.columns\n",
    "    vif['VIF'] = [variance_inflation_factor(X_train.values, i) for i in range(X_train.shape[1])]\n",
    "    vif['VIF'] = round(vif['VIF'], 2)\n",
    "    vif = vif.sort_values(by = \"VIF\", ascending = False)\n",
    "    return vif"
   ]
  },
  {
   "cell_type": "code",
   "execution_count": 74,
   "metadata": {},
   "outputs": [
    {
     "data": {
      "text/html": [
       "<div>\n",
       "<style scoped>\n",
       "    .dataframe tbody tr th:only-of-type {\n",
       "        vertical-align: middle;\n",
       "    }\n",
       "\n",
       "    .dataframe tbody tr th {\n",
       "        vertical-align: top;\n",
       "    }\n",
       "\n",
       "    .dataframe thead th {\n",
       "        text-align: right;\n",
       "    }\n",
       "</style>\n",
       "<table border=\"1\" class=\"dataframe\">\n",
       "  <thead>\n",
       "    <tr style=\"text-align: right;\">\n",
       "      <th></th>\n",
       "      <th>Features</th>\n",
       "      <th>VIF</th>\n",
       "    </tr>\n",
       "  </thead>\n",
       "  <tbody>\n",
       "    <tr>\n",
       "      <th>2</th>\n",
       "      <td>season_label_spring</td>\n",
       "      <td>4.07</td>\n",
       "    </tr>\n",
       "    <tr>\n",
       "      <th>1</th>\n",
       "      <td>workingday_1</td>\n",
       "      <td>2.81</td>\n",
       "    </tr>\n",
       "    <tr>\n",
       "      <th>3</th>\n",
       "      <td>season_label_winter</td>\n",
       "      <td>2.74</td>\n",
       "    </tr>\n",
       "    <tr>\n",
       "      <th>0</th>\n",
       "      <td>atemp</td>\n",
       "      <td>2.44</td>\n",
       "    </tr>\n",
       "    <tr>\n",
       "      <th>7</th>\n",
       "      <td>mnth_label_january</td>\n",
       "      <td>2.35</td>\n",
       "    </tr>\n",
       "    <tr>\n",
       "      <th>6</th>\n",
       "      <td>mnth_label_feburary</td>\n",
       "      <td>1.92</td>\n",
       "    </tr>\n",
       "    <tr>\n",
       "      <th>4</th>\n",
       "      <td>yr_label_2019</td>\n",
       "      <td>1.88</td>\n",
       "    </tr>\n",
       "    <tr>\n",
       "      <th>9</th>\n",
       "      <td>mnth_label_november</td>\n",
       "      <td>1.85</td>\n",
       "    </tr>\n",
       "    <tr>\n",
       "      <th>5</th>\n",
       "      <td>mnth_label_december</td>\n",
       "      <td>1.65</td>\n",
       "    </tr>\n",
       "    <tr>\n",
       "      <th>12</th>\n",
       "      <td>weathersit_label_mist</td>\n",
       "      <td>1.55</td>\n",
       "    </tr>\n",
       "    <tr>\n",
       "      <th>11</th>\n",
       "      <td>weekday_label_monday</td>\n",
       "      <td>1.39</td>\n",
       "    </tr>\n",
       "    <tr>\n",
       "      <th>8</th>\n",
       "      <td>mnth_label_may</td>\n",
       "      <td>1.18</td>\n",
       "    </tr>\n",
       "    <tr>\n",
       "      <th>10</th>\n",
       "      <td>mnth_label_september</td>\n",
       "      <td>1.16</td>\n",
       "    </tr>\n",
       "    <tr>\n",
       "      <th>13</th>\n",
       "      <td>weathersit_label_rain</td>\n",
       "      <td>1.08</td>\n",
       "    </tr>\n",
       "  </tbody>\n",
       "</table>\n",
       "</div>"
      ],
      "text/plain": [
       "                 Features   VIF\n",
       "2     season_label_spring  4.07\n",
       "1            workingday_1  2.81\n",
       "3     season_label_winter  2.74\n",
       "0                   atemp  2.44\n",
       "7      mnth_label_january  2.35\n",
       "6     mnth_label_feburary  1.92\n",
       "4           yr_label_2019  1.88\n",
       "9     mnth_label_november  1.85\n",
       "5     mnth_label_december  1.65\n",
       "12  weathersit_label_mist  1.55\n",
       "11   weekday_label_monday  1.39\n",
       "8          mnth_label_may  1.18\n",
       "10   mnth_label_september  1.16\n",
       "13  weathersit_label_rain  1.08"
      ]
     },
     "execution_count": 74,
     "metadata": {},
     "output_type": "execute_result"
    }
   ],
   "source": [
    "# Calling the Custom function to create a dataframe that will contain the names of all the feature variables and their respective VIFs\n",
    "\n",
    "vif()"
   ]
  },
  {
   "cell_type": "markdown",
   "metadata": {},
   "source": [
    "**_We generally want a VIF that is less than 5. So there are clearly no variables with VIF more than 5._**"
   ]
  },
  {
   "cell_type": "markdown",
   "metadata": {},
   "source": [
    "### Dropping the feature and updating the model\n",
    "\n",
    "As you can see from the summary, mnth_label_feburary is insignificant with p-value of `0.065`. We ll drop this variable."
   ]
  },
  {
   "cell_type": "code",
   "execution_count": 75,
   "metadata": {},
   "outputs": [
    {
     "data": {
      "text/plain": [
       "(510, 14)"
      ]
     },
     "execution_count": 75,
     "metadata": {},
     "output_type": "execute_result"
    }
   ],
   "source": [
    "X_train.shape"
   ]
  },
  {
   "cell_type": "code",
   "execution_count": 76,
   "metadata": {},
   "outputs": [],
   "source": [
    "# Dropping highly insignificant variable\n",
    "\n",
    "X_train.drop(['mnth_label_feburary'], axis=1, inplace=True)"
   ]
  },
  {
   "cell_type": "code",
   "execution_count": 77,
   "metadata": {},
   "outputs": [
    {
     "data": {
      "text/plain": [
       "(510, 13)"
      ]
     },
     "execution_count": 77,
     "metadata": {},
     "output_type": "execute_result"
    }
   ],
   "source": [
    "X_train.shape"
   ]
  },
  {
   "cell_type": "markdown",
   "metadata": {},
   "source": [
    "- Looks good."
   ]
  },
  {
   "cell_type": "code",
   "execution_count": 78,
   "metadata": {},
   "outputs": [
    {
     "data": {
      "text/plain": [
       "const                   -0.536750\n",
       "atemp                    0.390507\n",
       "workingday_1             0.250172\n",
       "season_label_spring     -0.477481\n",
       "season_label_winter      0.340594\n",
       "yr_label_2019            1.054892\n",
       "mnth_label_december     -0.210994\n",
       "mnth_label_january      -0.204886\n",
       "mnth_label_may           0.159183\n",
       "mnth_label_november     -0.243845\n",
       "mnth_label_september     0.327964\n",
       "weekday_label_monday     0.291371\n",
       "weathersit_label_mist   -0.358886\n",
       "weathersit_label_rain   -1.374321\n",
       "dtype: float64"
      ]
     },
     "execution_count": 78,
     "metadata": {},
     "output_type": "execute_result"
    }
   ],
   "source": [
    "# Building a Linear Model\n",
    "\n",
    "# By default, the statsmodels library fits a line on the dataset which passes through the origin.\n",
    "# But in order to have an intercept, we need to manually use the add_constant attribute of statsmodels. \n",
    "# Add a constant to get an intercept\n",
    "X_train_cn = sm.add_constant(X_train)\n",
    "\n",
    "# Fit the resgression line using 'OLS'\n",
    "model = sm.OLS(y_train, X_train_cn)\n",
    "res = model.fit()\n",
    "\n",
    "# Print the parameters, i.e. the intercept and the slope of the regression line fitted\n",
    "res.params"
   ]
  },
  {
   "cell_type": "code",
   "execution_count": 79,
   "metadata": {},
   "outputs": [
    {
     "name": "stdout",
     "output_type": "stream",
     "text": [
      "                            OLS Regression Results                            \n",
      "==============================================================================\n",
      "Dep. Variable:                    cnt   R-squared:                       0.829\n",
      "Model:                            OLS   Adj. R-squared:                  0.824\n",
      "Method:                 Least Squares   F-statistic:                     184.4\n",
      "Date:                Mon, 02 Nov 2020   Prob (F-statistic):          2.30e-180\n",
      "Time:                        23:22:28   Log-Likelihood:                -273.98\n",
      "No. Observations:                 510   AIC:                             576.0\n",
      "Df Residuals:                     496   BIC:                             635.2\n",
      "Df Model:                          13                                         \n",
      "Covariance Type:            nonrobust                                         \n",
      "=========================================================================================\n",
      "                            coef    std err          t      P>|t|      [0.025      0.975]\n",
      "-----------------------------------------------------------------------------------------\n",
      "const                    -0.5368      0.061     -8.866      0.000      -0.656      -0.418\n",
      "atemp                     0.3905      0.030     12.869      0.000       0.331       0.450\n",
      "workingday_1              0.2502      0.051      4.903      0.000       0.150       0.350\n",
      "season_label_spring      -0.4775      0.072     -6.588      0.000      -0.620      -0.335\n",
      "season_label_winter       0.3406      0.066      5.196      0.000       0.212       0.469\n",
      "yr_label_2019             1.0549      0.038     28.087      0.000       0.981       1.129\n",
      "mnth_label_december      -0.2110      0.080     -2.649      0.008      -0.368      -0.054\n",
      "mnth_label_january       -0.2049      0.082     -2.490      0.013      -0.367      -0.043\n",
      "mnth_label_may            0.1592      0.072      2.226      0.026       0.019       0.300\n",
      "mnth_label_november      -0.2438      0.086     -2.832      0.005      -0.413      -0.075\n",
      "mnth_label_september      0.3280      0.071      4.592      0.000       0.188       0.468\n",
      "weekday_label_monday      0.2914      0.066      4.430      0.000       0.162       0.421\n",
      "weathersit_label_mist    -0.3589      0.040     -8.945      0.000      -0.438      -0.280\n",
      "weathersit_label_rain    -1.3743      0.113    -12.149      0.000      -1.597      -1.152\n",
      "==============================================================================\n",
      "Omnibus:                       92.489   Durbin-Watson:                   2.038\n",
      "Prob(Omnibus):                  0.000   Jarque-Bera (JB):              311.550\n",
      "Skew:                          -0.815   Prob(JB):                     2.23e-68\n",
      "Kurtosis:                       6.465   Cond. No.                         9.19\n",
      "==============================================================================\n",
      "\n",
      "Warnings:\n",
      "[1] Standard Errors assume that the covariance matrix of the errors is correctly specified.\n"
     ]
    }
   ],
   "source": [
    "# Performing a summary operation lists out all the different parameters of the regression line fitted\n",
    "\n",
    "print(res.summary())"
   ]
  },
  {
   "cell_type": "code",
   "execution_count": 80,
   "metadata": {},
   "outputs": [
    {
     "data": {
      "text/html": [
       "<div>\n",
       "<style scoped>\n",
       "    .dataframe tbody tr th:only-of-type {\n",
       "        vertical-align: middle;\n",
       "    }\n",
       "\n",
       "    .dataframe tbody tr th {\n",
       "        vertical-align: top;\n",
       "    }\n",
       "\n",
       "    .dataframe thead th {\n",
       "        text-align: right;\n",
       "    }\n",
       "</style>\n",
       "<table border=\"1\" class=\"dataframe\">\n",
       "  <thead>\n",
       "    <tr style=\"text-align: right;\">\n",
       "      <th></th>\n",
       "      <th>Features</th>\n",
       "      <th>VIF</th>\n",
       "    </tr>\n",
       "  </thead>\n",
       "  <tbody>\n",
       "    <tr>\n",
       "      <th>2</th>\n",
       "      <td>season_label_spring</td>\n",
       "      <td>2.95</td>\n",
       "    </tr>\n",
       "    <tr>\n",
       "      <th>1</th>\n",
       "      <td>workingday_1</td>\n",
       "      <td>2.80</td>\n",
       "    </tr>\n",
       "    <tr>\n",
       "      <th>3</th>\n",
       "      <td>season_label_winter</td>\n",
       "      <td>2.72</td>\n",
       "    </tr>\n",
       "    <tr>\n",
       "      <th>0</th>\n",
       "      <td>atemp</td>\n",
       "      <td>2.36</td>\n",
       "    </tr>\n",
       "    <tr>\n",
       "      <th>4</th>\n",
       "      <td>yr_label_2019</td>\n",
       "      <td>1.87</td>\n",
       "    </tr>\n",
       "    <tr>\n",
       "      <th>8</th>\n",
       "      <td>mnth_label_november</td>\n",
       "      <td>1.82</td>\n",
       "    </tr>\n",
       "    <tr>\n",
       "      <th>6</th>\n",
       "      <td>mnth_label_january</td>\n",
       "      <td>1.72</td>\n",
       "    </tr>\n",
       "    <tr>\n",
       "      <th>11</th>\n",
       "      <td>weathersit_label_mist</td>\n",
       "      <td>1.55</td>\n",
       "    </tr>\n",
       "    <tr>\n",
       "      <th>5</th>\n",
       "      <td>mnth_label_december</td>\n",
       "      <td>1.53</td>\n",
       "    </tr>\n",
       "    <tr>\n",
       "      <th>10</th>\n",
       "      <td>weekday_label_monday</td>\n",
       "      <td>1.39</td>\n",
       "    </tr>\n",
       "    <tr>\n",
       "      <th>7</th>\n",
       "      <td>mnth_label_may</td>\n",
       "      <td>1.18</td>\n",
       "    </tr>\n",
       "    <tr>\n",
       "      <th>9</th>\n",
       "      <td>mnth_label_september</td>\n",
       "      <td>1.16</td>\n",
       "    </tr>\n",
       "    <tr>\n",
       "      <th>12</th>\n",
       "      <td>weathersit_label_rain</td>\n",
       "      <td>1.08</td>\n",
       "    </tr>\n",
       "  </tbody>\n",
       "</table>\n",
       "</div>"
      ],
      "text/plain": [
       "                 Features   VIF\n",
       "2     season_label_spring  2.95\n",
       "1            workingday_1  2.80\n",
       "3     season_label_winter  2.72\n",
       "0                   atemp  2.36\n",
       "4           yr_label_2019  1.87\n",
       "8     mnth_label_november  1.82\n",
       "6      mnth_label_january  1.72\n",
       "11  weathersit_label_mist  1.55\n",
       "5     mnth_label_december  1.53\n",
       "10   weekday_label_monday  1.39\n",
       "7          mnth_label_may  1.18\n",
       "9    mnth_label_september  1.16\n",
       "12  weathersit_label_rain  1.08"
      ]
     },
     "execution_count": 80,
     "metadata": {},
     "output_type": "execute_result"
    }
   ],
   "source": [
    "# Calling the Custom function to create a dataframe that will contain the names of all the feature variables and their respective VIFs\n",
    "\n",
    "vif()"
   ]
  },
  {
   "cell_type": "markdown",
   "metadata": {},
   "source": [
    "### Dropping the feature and updating the model\n",
    "\n",
    "As you can see from the summary, mnth_label_may is less significant with p-value of `0.026`. We ll drop this variable."
   ]
  },
  {
   "cell_type": "code",
   "execution_count": 81,
   "metadata": {},
   "outputs": [
    {
     "data": {
      "text/plain": [
       "(510, 13)"
      ]
     },
     "execution_count": 81,
     "metadata": {},
     "output_type": "execute_result"
    }
   ],
   "source": [
    "X_train.shape"
   ]
  },
  {
   "cell_type": "code",
   "execution_count": 82,
   "metadata": {},
   "outputs": [],
   "source": [
    "# Dropping highly insignificant variable\n",
    "\n",
    "X_train.drop(['mnth_label_may'], axis=1, inplace=True)"
   ]
  },
  {
   "cell_type": "code",
   "execution_count": 83,
   "metadata": {},
   "outputs": [
    {
     "data": {
      "text/plain": [
       "(510, 12)"
      ]
     },
     "execution_count": 83,
     "metadata": {},
     "output_type": "execute_result"
    }
   ],
   "source": [
    "X_train.shape"
   ]
  },
  {
   "cell_type": "markdown",
   "metadata": {},
   "source": [
    "- Looks good."
   ]
  },
  {
   "cell_type": "code",
   "execution_count": 84,
   "metadata": {},
   "outputs": [
    {
     "data": {
      "text/plain": [
       "const                   -0.505212\n",
       "atemp                    0.386351\n",
       "workingday_1             0.251138\n",
       "season_label_spring     -0.512069\n",
       "season_label_winter      0.312131\n",
       "yr_label_2019            1.051336\n",
       "mnth_label_december     -0.216589\n",
       "mnth_label_january      -0.209364\n",
       "mnth_label_november     -0.249839\n",
       "mnth_label_september     0.304520\n",
       "weekday_label_monday     0.286747\n",
       "weathersit_label_mist   -0.351144\n",
       "weathersit_label_rain   -1.381426\n",
       "dtype: float64"
      ]
     },
     "execution_count": 84,
     "metadata": {},
     "output_type": "execute_result"
    }
   ],
   "source": [
    "# Building a Linear Model\n",
    "\n",
    "# By default, the statsmodels library fits a line on the dataset which passes through the origin.\n",
    "# But in order to have an intercept, we need to manually use the add_constant attribute of statsmodels. \n",
    "# Add a constant to get an intercept\n",
    "X_train_cn = sm.add_constant(X_train)\n",
    "\n",
    "# Fit the resgression line using 'OLS'\n",
    "model = sm.OLS(y_train, X_train_cn)\n",
    "res = model.fit()\n",
    "\n",
    "# Print the parameters, i.e. the intercept and the slope of the regression line fitted\n",
    "res.params"
   ]
  },
  {
   "cell_type": "code",
   "execution_count": 85,
   "metadata": {},
   "outputs": [
    {
     "name": "stdout",
     "output_type": "stream",
     "text": [
      "                            OLS Regression Results                            \n",
      "==============================================================================\n",
      "Dep. Variable:                    cnt   R-squared:                       0.827\n",
      "Model:                            OLS   Adj. R-squared:                  0.823\n",
      "Method:                 Least Squares   F-statistic:                     197.8\n",
      "Date:                Mon, 02 Nov 2020   Prob (F-statistic):          1.86e-180\n",
      "Time:                        23:22:28   Log-Likelihood:                -276.51\n",
      "No. Observations:                 510   AIC:                             579.0\n",
      "Df Residuals:                     497   BIC:                             634.1\n",
      "Df Model:                          12                                         \n",
      "Covariance Type:            nonrobust                                         \n",
      "=========================================================================================\n",
      "                            coef    std err          t      P>|t|      [0.025      0.975]\n",
      "-----------------------------------------------------------------------------------------\n",
      "const                    -0.5052      0.059     -8.550      0.000      -0.621      -0.389\n",
      "atemp                     0.3864      0.030     12.705      0.000       0.327       0.446\n",
      "workingday_1              0.2511      0.051      4.903      0.000       0.150       0.352\n",
      "season_label_spring      -0.5121      0.071     -7.205      0.000      -0.652      -0.372\n",
      "season_label_winter       0.3121      0.065      4.835      0.000       0.185       0.439\n",
      "yr_label_2019             1.0513      0.038     27.906      0.000       0.977       1.125\n",
      "mnth_label_december      -0.2166      0.080     -2.709      0.007      -0.374      -0.060\n",
      "mnth_label_january       -0.2094      0.083     -2.535      0.012      -0.372      -0.047\n",
      "mnth_label_november      -0.2498      0.086     -2.892      0.004      -0.420      -0.080\n",
      "mnth_label_september      0.3045      0.071      4.294      0.000       0.165       0.444\n",
      "weekday_label_monday      0.2867      0.066      4.345      0.000       0.157       0.416\n",
      "weathersit_label_mist    -0.3511      0.040     -8.751      0.000      -0.430      -0.272\n",
      "weathersit_label_rain    -1.3814      0.114    -12.168      0.000      -1.604      -1.158\n",
      "==============================================================================\n",
      "Omnibus:                       90.479   Durbin-Watson:                   2.039\n",
      "Prob(Omnibus):                  0.000   Jarque-Bera (JB):              286.152\n",
      "Skew:                          -0.817   Prob(JB):                     7.29e-63\n",
      "Kurtosis:                       6.285   Cond. No.                         9.18\n",
      "==============================================================================\n",
      "\n",
      "Warnings:\n",
      "[1] Standard Errors assume that the covariance matrix of the errors is correctly specified.\n"
     ]
    }
   ],
   "source": [
    "# Performing a summary operation lists out all the different parameters of the regression line fitted\n",
    "\n",
    "print(res.summary())"
   ]
  },
  {
   "cell_type": "code",
   "execution_count": 86,
   "metadata": {},
   "outputs": [
    {
     "data": {
      "text/html": [
       "<div>\n",
       "<style scoped>\n",
       "    .dataframe tbody tr th:only-of-type {\n",
       "        vertical-align: middle;\n",
       "    }\n",
       "\n",
       "    .dataframe tbody tr th {\n",
       "        vertical-align: top;\n",
       "    }\n",
       "\n",
       "    .dataframe thead th {\n",
       "        text-align: right;\n",
       "    }\n",
       "</style>\n",
       "<table border=\"1\" class=\"dataframe\">\n",
       "  <thead>\n",
       "    <tr style=\"text-align: right;\">\n",
       "      <th></th>\n",
       "      <th>Features</th>\n",
       "      <th>VIF</th>\n",
       "    </tr>\n",
       "  </thead>\n",
       "  <tbody>\n",
       "    <tr>\n",
       "      <th>2</th>\n",
       "      <td>season_label_spring</td>\n",
       "      <td>2.90</td>\n",
       "    </tr>\n",
       "    <tr>\n",
       "      <th>3</th>\n",
       "      <td>season_label_winter</td>\n",
       "      <td>2.68</td>\n",
       "    </tr>\n",
       "    <tr>\n",
       "      <th>1</th>\n",
       "      <td>workingday_1</td>\n",
       "      <td>2.65</td>\n",
       "    </tr>\n",
       "    <tr>\n",
       "      <th>0</th>\n",
       "      <td>atemp</td>\n",
       "      <td>2.36</td>\n",
       "    </tr>\n",
       "    <tr>\n",
       "      <th>4</th>\n",
       "      <td>yr_label_2019</td>\n",
       "      <td>1.87</td>\n",
       "    </tr>\n",
       "    <tr>\n",
       "      <th>7</th>\n",
       "      <td>mnth_label_november</td>\n",
       "      <td>1.82</td>\n",
       "    </tr>\n",
       "    <tr>\n",
       "      <th>6</th>\n",
       "      <td>mnth_label_january</td>\n",
       "      <td>1.72</td>\n",
       "    </tr>\n",
       "    <tr>\n",
       "      <th>5</th>\n",
       "      <td>mnth_label_december</td>\n",
       "      <td>1.53</td>\n",
       "    </tr>\n",
       "    <tr>\n",
       "      <th>10</th>\n",
       "      <td>weathersit_label_mist</td>\n",
       "      <td>1.52</td>\n",
       "    </tr>\n",
       "    <tr>\n",
       "      <th>9</th>\n",
       "      <td>weekday_label_monday</td>\n",
       "      <td>1.37</td>\n",
       "    </tr>\n",
       "    <tr>\n",
       "      <th>8</th>\n",
       "      <td>mnth_label_september</td>\n",
       "      <td>1.15</td>\n",
       "    </tr>\n",
       "    <tr>\n",
       "      <th>11</th>\n",
       "      <td>weathersit_label_rain</td>\n",
       "      <td>1.08</td>\n",
       "    </tr>\n",
       "  </tbody>\n",
       "</table>\n",
       "</div>"
      ],
      "text/plain": [
       "                 Features   VIF\n",
       "2     season_label_spring  2.90\n",
       "3     season_label_winter  2.68\n",
       "1            workingday_1  2.65\n",
       "0                   atemp  2.36\n",
       "4           yr_label_2019  1.87\n",
       "7     mnth_label_november  1.82\n",
       "6      mnth_label_january  1.72\n",
       "5     mnth_label_december  1.53\n",
       "10  weathersit_label_mist  1.52\n",
       "9    weekday_label_monday  1.37\n",
       "8    mnth_label_september  1.15\n",
       "11  weathersit_label_rain  1.08"
      ]
     },
     "execution_count": 86,
     "metadata": {},
     "output_type": "execute_result"
    }
   ],
   "source": [
    "# Calling the Custom function to create a dataframe that will contain the names of all the feature variables and their respective VIFs\n",
    "\n",
    "vif()"
   ]
  },
  {
   "cell_type": "markdown",
   "metadata": {},
   "source": [
    "### Dropping the feature and updating the model\n",
    "\n",
    "As you can see from the summary, mnth_label_january is less significant with p-value of `0.012`. We ll drop this variable."
   ]
  },
  {
   "cell_type": "code",
   "execution_count": 87,
   "metadata": {},
   "outputs": [
    {
     "data": {
      "text/plain": [
       "(510, 12)"
      ]
     },
     "execution_count": 87,
     "metadata": {},
     "output_type": "execute_result"
    }
   ],
   "source": [
    "X_train.shape"
   ]
  },
  {
   "cell_type": "code",
   "execution_count": 88,
   "metadata": {},
   "outputs": [],
   "source": [
    "# Dropping highly insignificant variable\n",
    "\n",
    "X_train.drop(['mnth_label_january'], axis=1, inplace=True)"
   ]
  },
  {
   "cell_type": "code",
   "execution_count": 89,
   "metadata": {},
   "outputs": [
    {
     "data": {
      "text/plain": [
       "(510, 11)"
      ]
     },
     "execution_count": 89,
     "metadata": {},
     "output_type": "execute_result"
    }
   ],
   "source": [
    "X_train.shape"
   ]
  },
  {
   "cell_type": "markdown",
   "metadata": {},
   "source": [
    "- Looks good."
   ]
  },
  {
   "cell_type": "code",
   "execution_count": 90,
   "metadata": {},
   "outputs": [
    {
     "data": {
      "text/plain": [
       "const                   -0.514997\n",
       "atemp                    0.405448\n",
       "workingday_1             0.250000\n",
       "season_label_spring     -0.558804\n",
       "season_label_winter      0.313626\n",
       "yr_label_2019            1.048773\n",
       "mnth_label_december     -0.173966\n",
       "mnth_label_november     -0.227375\n",
       "mnth_label_september     0.303811\n",
       "weekday_label_monday     0.284672\n",
       "weathersit_label_mist   -0.354800\n",
       "weathersit_label_rain   -1.364976\n",
       "dtype: float64"
      ]
     },
     "execution_count": 90,
     "metadata": {},
     "output_type": "execute_result"
    }
   ],
   "source": [
    "# Building a Linear Model\n",
    "\n",
    "# By default, the statsmodels library fits a line on the dataset which passes through the origin.\n",
    "# But in order to have an intercept, we need to manually use the add_constant attribute of statsmodels. \n",
    "# Add a constant to get an intercept\n",
    "X_train_cn = sm.add_constant(X_train)\n",
    "\n",
    "# Fit the resgression line using 'OLS'\n",
    "model = sm.OLS(y_train, X_train_cn)\n",
    "res = model.fit()\n",
    "\n",
    "# Print the parameters, i.e. the intercept and the slope of the regression line fitted\n",
    "res.params"
   ]
  },
  {
   "cell_type": "code",
   "execution_count": 91,
   "metadata": {},
   "outputs": [
    {
     "name": "stdout",
     "output_type": "stream",
     "text": [
      "                            OLS Regression Results                            \n",
      "==============================================================================\n",
      "Dep. Variable:                    cnt   R-squared:                       0.825\n",
      "Model:                            OLS   Adj. R-squared:                  0.821\n",
      "Method:                 Least Squares   F-statistic:                     212.8\n",
      "Date:                Mon, 02 Nov 2020   Prob (F-statistic):          2.99e-180\n",
      "Time:                        23:22:28   Log-Likelihood:                -279.79\n",
      "No. Observations:                 510   AIC:                             583.6\n",
      "Df Residuals:                     498   BIC:                             634.4\n",
      "Df Model:                          11                                         \n",
      "Covariance Type:            nonrobust                                         \n",
      "=========================================================================================\n",
      "                            coef    std err          t      P>|t|      [0.025      0.975]\n",
      "-----------------------------------------------------------------------------------------\n",
      "const                    -0.5150      0.059     -8.687      0.000      -0.631      -0.399\n",
      "atemp                     0.4054      0.030     13.688      0.000       0.347       0.464\n",
      "workingday_1              0.2500      0.052      4.854      0.000       0.149       0.351\n",
      "season_label_spring      -0.5588      0.069     -8.097      0.000      -0.694      -0.423\n",
      "season_label_winter       0.3136      0.065      4.832      0.000       0.186       0.441\n",
      "yr_label_2019             1.0488      0.038     27.698      0.000       0.974       1.123\n",
      "mnth_label_december      -0.1740      0.079     -2.214      0.027      -0.328      -0.020\n",
      "mnth_label_november      -0.2274      0.086     -2.631      0.009      -0.397      -0.058\n",
      "mnth_label_september      0.3038      0.071      4.261      0.000       0.164       0.444\n",
      "weekday_label_monday      0.2847      0.066      4.290      0.000       0.154       0.415\n",
      "weathersit_label_mist    -0.3548      0.040     -8.800      0.000      -0.434      -0.276\n",
      "weathersit_label_rain    -1.3650      0.114    -11.978      0.000      -1.589      -1.141\n",
      "==============================================================================\n",
      "Omnibus:                       85.977   Durbin-Watson:                   2.040\n",
      "Prob(Omnibus):                  0.000   Jarque-Bera (JB):              270.424\n",
      "Skew:                          -0.778   Prob(JB):                     1.90e-59\n",
      "Kurtosis:                       6.210   Cond. No.                         9.04\n",
      "==============================================================================\n",
      "\n",
      "Warnings:\n",
      "[1] Standard Errors assume that the covariance matrix of the errors is correctly specified.\n"
     ]
    }
   ],
   "source": [
    "# Performing a summary operation lists out all the different parameters of the regression line fitted\n",
    "\n",
    "print(res.summary())"
   ]
  },
  {
   "cell_type": "code",
   "execution_count": 92,
   "metadata": {},
   "outputs": [
    {
     "data": {
      "text/html": [
       "<div>\n",
       "<style scoped>\n",
       "    .dataframe tbody tr th:only-of-type {\n",
       "        vertical-align: middle;\n",
       "    }\n",
       "\n",
       "    .dataframe tbody tr th {\n",
       "        vertical-align: top;\n",
       "    }\n",
       "\n",
       "    .dataframe thead th {\n",
       "        text-align: right;\n",
       "    }\n",
       "</style>\n",
       "<table border=\"1\" class=\"dataframe\">\n",
       "  <thead>\n",
       "    <tr style=\"text-align: right;\">\n",
       "      <th></th>\n",
       "      <th>Features</th>\n",
       "      <th>VIF</th>\n",
       "    </tr>\n",
       "  </thead>\n",
       "  <tbody>\n",
       "    <tr>\n",
       "      <th>3</th>\n",
       "      <td>season_label_winter</td>\n",
       "      <td>2.68</td>\n",
       "    </tr>\n",
       "    <tr>\n",
       "      <th>1</th>\n",
       "      <td>workingday_1</td>\n",
       "      <td>2.64</td>\n",
       "    </tr>\n",
       "    <tr>\n",
       "      <th>2</th>\n",
       "      <td>season_label_spring</td>\n",
       "      <td>2.61</td>\n",
       "    </tr>\n",
       "    <tr>\n",
       "      <th>0</th>\n",
       "      <td>atemp</td>\n",
       "      <td>2.22</td>\n",
       "    </tr>\n",
       "    <tr>\n",
       "      <th>4</th>\n",
       "      <td>yr_label_2019</td>\n",
       "      <td>1.87</td>\n",
       "    </tr>\n",
       "    <tr>\n",
       "      <th>6</th>\n",
       "      <td>mnth_label_november</td>\n",
       "      <td>1.81</td>\n",
       "    </tr>\n",
       "    <tr>\n",
       "      <th>9</th>\n",
       "      <td>weathersit_label_mist</td>\n",
       "      <td>1.52</td>\n",
       "    </tr>\n",
       "    <tr>\n",
       "      <th>5</th>\n",
       "      <td>mnth_label_december</td>\n",
       "      <td>1.47</td>\n",
       "    </tr>\n",
       "    <tr>\n",
       "      <th>8</th>\n",
       "      <td>weekday_label_monday</td>\n",
       "      <td>1.37</td>\n",
       "    </tr>\n",
       "    <tr>\n",
       "      <th>7</th>\n",
       "      <td>mnth_label_september</td>\n",
       "      <td>1.15</td>\n",
       "    </tr>\n",
       "    <tr>\n",
       "      <th>10</th>\n",
       "      <td>weathersit_label_rain</td>\n",
       "      <td>1.08</td>\n",
       "    </tr>\n",
       "  </tbody>\n",
       "</table>\n",
       "</div>"
      ],
      "text/plain": [
       "                 Features   VIF\n",
       "3     season_label_winter  2.68\n",
       "1            workingday_1  2.64\n",
       "2     season_label_spring  2.61\n",
       "0                   atemp  2.22\n",
       "4           yr_label_2019  1.87\n",
       "6     mnth_label_november  1.81\n",
       "9   weathersit_label_mist  1.52\n",
       "5     mnth_label_december  1.47\n",
       "8    weekday_label_monday  1.37\n",
       "7    mnth_label_september  1.15\n",
       "10  weathersit_label_rain  1.08"
      ]
     },
     "execution_count": 92,
     "metadata": {},
     "output_type": "execute_result"
    }
   ],
   "source": [
    "# Calling the Custom function to create a dataframe that will contain the names of all the feature variables and their respective VIFs\n",
    "\n",
    "vif()"
   ]
  },
  {
   "cell_type": "markdown",
   "metadata": {},
   "source": [
    "### Dropping the feature and updating the model\n",
    "\n",
    "As you can see from the summary, mnth_label_december is less significant with p-value of `0.027`. We ll drop this variable."
   ]
  },
  {
   "cell_type": "code",
   "execution_count": 93,
   "metadata": {},
   "outputs": [
    {
     "data": {
      "text/plain": [
       "(510, 11)"
      ]
     },
     "execution_count": 93,
     "metadata": {},
     "output_type": "execute_result"
    }
   ],
   "source": [
    "X_train.shape"
   ]
  },
  {
   "cell_type": "code",
   "execution_count": 94,
   "metadata": {},
   "outputs": [],
   "source": [
    "# Dropping highly insignificant variable\n",
    "\n",
    "X_train.drop(['mnth_label_december'], axis=1, inplace=True)"
   ]
  },
  {
   "cell_type": "code",
   "execution_count": 95,
   "metadata": {},
   "outputs": [
    {
     "data": {
      "text/plain": [
       "(510, 10)"
      ]
     },
     "execution_count": 95,
     "metadata": {},
     "output_type": "execute_result"
    }
   ],
   "source": [
    "X_train.shape"
   ]
  },
  {
   "cell_type": "markdown",
   "metadata": {},
   "source": [
    "- Looks good."
   ]
  },
  {
   "cell_type": "code",
   "execution_count": 96,
   "metadata": {},
   "outputs": [
    {
     "data": {
      "text/plain": [
       "const                   -0.524849\n",
       "atemp                    0.417784\n",
       "workingday_1             0.247689\n",
       "season_label_spring     -0.553639\n",
       "season_label_winter      0.260494\n",
       "yr_label_2019            1.050096\n",
       "mnth_label_november     -0.157389\n",
       "mnth_label_september     0.316131\n",
       "weekday_label_monday     0.280003\n",
       "weathersit_label_mist   -0.351769\n",
       "weathersit_label_rain   -1.344713\n",
       "dtype: float64"
      ]
     },
     "execution_count": 96,
     "metadata": {},
     "output_type": "execute_result"
    }
   ],
   "source": [
    "# Building a Linear Model\n",
    "\n",
    "# By default, the statsmodels library fits a line on the dataset which passes through the origin.\n",
    "# But in order to have an intercept, we need to manually use the add_constant attribute of statsmodels. \n",
    "# Add a constant to get an intercept\n",
    "X_train_cn = sm.add_constant(X_train)\n",
    "\n",
    "# Fit the resgression line using 'OLS'\n",
    "model = sm.OLS(y_train, X_train_cn)\n",
    "res = model.fit()\n",
    "\n",
    "# Print the parameters, i.e. the intercept and the slope of the regression line fitted\n",
    "res.params"
   ]
  },
  {
   "cell_type": "code",
   "execution_count": 97,
   "metadata": {},
   "outputs": [
    {
     "name": "stdout",
     "output_type": "stream",
     "text": [
      "                            OLS Regression Results                            \n",
      "==============================================================================\n",
      "Dep. Variable:                    cnt   R-squared:                       0.823\n",
      "Model:                            OLS   Adj. R-squared:                  0.819\n",
      "Method:                 Least Squares   F-statistic:                     231.8\n",
      "Date:                Mon, 02 Nov 2020   Prob (F-statistic):          2.17e-180\n",
      "Time:                        23:22:28   Log-Likelihood:                -282.29\n",
      "No. Observations:                 510   AIC:                             586.6\n",
      "Df Residuals:                     499   BIC:                             633.2\n",
      "Df Model:                          10                                         \n",
      "Covariance Type:            nonrobust                                         \n",
      "=========================================================================================\n",
      "                            coef    std err          t      P>|t|      [0.025      0.975]\n",
      "-----------------------------------------------------------------------------------------\n",
      "const                    -0.5248      0.059     -8.843      0.000      -0.641      -0.408\n",
      "atemp                     0.4178      0.029     14.305      0.000       0.360       0.475\n",
      "workingday_1              0.2477      0.052      4.792      0.000       0.146       0.349\n",
      "season_label_spring      -0.5536      0.069     -7.996      0.000      -0.690      -0.418\n",
      "season_label_winter       0.2605      0.061      4.303      0.000       0.142       0.379\n",
      "yr_label_2019             1.0501      0.038     27.629      0.000       0.975       1.125\n",
      "mnth_label_november      -0.1574      0.081     -1.950      0.052      -0.316       0.001\n",
      "mnth_label_september      0.3161      0.071      4.430      0.000       0.176       0.456\n",
      "weekday_label_monday      0.2800      0.067      4.206      0.000       0.149       0.411\n",
      "weathersit_label_mist    -0.3518      0.040     -8.696      0.000      -0.431      -0.272\n",
      "weathersit_label_rain    -1.3447      0.114    -11.792      0.000      -1.569      -1.121\n",
      "==============================================================================\n",
      "Omnibus:                       78.686   Durbin-Watson:                   2.057\n",
      "Prob(Omnibus):                  0.000   Jarque-Bera (JB):              230.888\n",
      "Skew:                          -0.732   Prob(JB):                     7.30e-51\n",
      "Kurtosis:                       5.953   Cond. No.                         8.83\n",
      "==============================================================================\n",
      "\n",
      "Warnings:\n",
      "[1] Standard Errors assume that the covariance matrix of the errors is correctly specified.\n"
     ]
    }
   ],
   "source": [
    "# Performing a summary operation lists out all the different parameters of the regression line fitted\n",
    "\n",
    "print(res.summary())"
   ]
  },
  {
   "cell_type": "code",
   "execution_count": 98,
   "metadata": {},
   "outputs": [
    {
     "data": {
      "text/html": [
       "<div>\n",
       "<style scoped>\n",
       "    .dataframe tbody tr th:only-of-type {\n",
       "        vertical-align: middle;\n",
       "    }\n",
       "\n",
       "    .dataframe tbody tr th {\n",
       "        vertical-align: top;\n",
       "    }\n",
       "\n",
       "    .dataframe thead th {\n",
       "        text-align: right;\n",
       "    }\n",
       "</style>\n",
       "<table border=\"1\" class=\"dataframe\">\n",
       "  <thead>\n",
       "    <tr style=\"text-align: right;\">\n",
       "      <th></th>\n",
       "      <th>Features</th>\n",
       "      <th>VIF</th>\n",
       "    </tr>\n",
       "  </thead>\n",
       "  <tbody>\n",
       "    <tr>\n",
       "      <th>1</th>\n",
       "      <td>workingday_1</td>\n",
       "      <td>2.61</td>\n",
       "    </tr>\n",
       "    <tr>\n",
       "      <th>2</th>\n",
       "      <td>season_label_spring</td>\n",
       "      <td>2.61</td>\n",
       "    </tr>\n",
       "    <tr>\n",
       "      <th>3</th>\n",
       "      <td>season_label_winter</td>\n",
       "      <td>2.22</td>\n",
       "    </tr>\n",
       "    <tr>\n",
       "      <th>0</th>\n",
       "      <td>atemp</td>\n",
       "      <td>2.16</td>\n",
       "    </tr>\n",
       "    <tr>\n",
       "      <th>4</th>\n",
       "      <td>yr_label_2019</td>\n",
       "      <td>1.87</td>\n",
       "    </tr>\n",
       "    <tr>\n",
       "      <th>5</th>\n",
       "      <td>mnth_label_november</td>\n",
       "      <td>1.57</td>\n",
       "    </tr>\n",
       "    <tr>\n",
       "      <th>8</th>\n",
       "      <td>weathersit_label_mist</td>\n",
       "      <td>1.52</td>\n",
       "    </tr>\n",
       "    <tr>\n",
       "      <th>7</th>\n",
       "      <td>weekday_label_monday</td>\n",
       "      <td>1.36</td>\n",
       "    </tr>\n",
       "    <tr>\n",
       "      <th>6</th>\n",
       "      <td>mnth_label_september</td>\n",
       "      <td>1.14</td>\n",
       "    </tr>\n",
       "    <tr>\n",
       "      <th>9</th>\n",
       "      <td>weathersit_label_rain</td>\n",
       "      <td>1.07</td>\n",
       "    </tr>\n",
       "  </tbody>\n",
       "</table>\n",
       "</div>"
      ],
      "text/plain": [
       "                Features   VIF\n",
       "1           workingday_1  2.61\n",
       "2    season_label_spring  2.61\n",
       "3    season_label_winter  2.22\n",
       "0                  atemp  2.16\n",
       "4          yr_label_2019  1.87\n",
       "5    mnth_label_november  1.57\n",
       "8  weathersit_label_mist  1.52\n",
       "7   weekday_label_monday  1.36\n",
       "6   mnth_label_september  1.14\n",
       "9  weathersit_label_rain  1.07"
      ]
     },
     "execution_count": 98,
     "metadata": {},
     "output_type": "execute_result"
    }
   ],
   "source": [
    "# Calling the Custom function to create a dataframe that will contain the names of all the feature variables and their respective VIFs\n",
    "\n",
    "vif()"
   ]
  },
  {
   "cell_type": "markdown",
   "metadata": {},
   "source": [
    "### Dropping the feature and updating the model\n",
    "\n",
    "As you can see from the summary, mnth_label_november is less significant with p-value of `0.052`. We ll drop this variable."
   ]
  },
  {
   "cell_type": "code",
   "execution_count": 99,
   "metadata": {},
   "outputs": [
    {
     "data": {
      "text/plain": [
       "(510, 10)"
      ]
     },
     "execution_count": 99,
     "metadata": {},
     "output_type": "execute_result"
    }
   ],
   "source": [
    "X_train.shape"
   ]
  },
  {
   "cell_type": "code",
   "execution_count": 100,
   "metadata": {},
   "outputs": [],
   "source": [
    "# Dropping highly insignificant variable\n",
    "\n",
    "X_train.drop(['mnth_label_november'], axis=1, inplace=True)"
   ]
  },
  {
   "cell_type": "code",
   "execution_count": 101,
   "metadata": {},
   "outputs": [
    {
     "data": {
      "text/plain": [
       "(510, 9)"
      ]
     },
     "execution_count": 101,
     "metadata": {},
     "output_type": "execute_result"
    }
   ],
   "source": [
    "X_train.shape"
   ]
  },
  {
   "cell_type": "markdown",
   "metadata": {},
   "source": [
    "- Looks good."
   ]
  },
  {
   "cell_type": "code",
   "execution_count": 102,
   "metadata": {},
   "outputs": [
    {
     "data": {
      "text/plain": [
       "const                   -0.535653\n",
       "atemp                    0.425022\n",
       "workingday_1             0.250853\n",
       "season_label_spring     -0.539466\n",
       "season_label_winter      0.213350\n",
       "yr_label_2019            1.049855\n",
       "mnth_label_september     0.327203\n",
       "weekday_label_monday     0.285904\n",
       "weathersit_label_mist   -0.347975\n",
       "weathersit_label_rain   -1.334692\n",
       "dtype: float64"
      ]
     },
     "execution_count": 102,
     "metadata": {},
     "output_type": "execute_result"
    }
   ],
   "source": [
    "# Building a Linear Model\n",
    "\n",
    "# By default, the statsmodels library fits a line on the dataset which passes through the origin.\n",
    "# But in order to have an intercept, we need to manually use the add_constant attribute of statsmodels. \n",
    "# Add a constant to get an intercept\n",
    "X_train_cn = sm.add_constant(X_train)\n",
    "\n",
    "# Fit the resgression line using 'OLS'\n",
    "model = sm.OLS(y_train, X_train_cn)\n",
    "res = model.fit()\n",
    "\n",
    "# Print the parameters, i.e. the intercept and the slope of the regression line fitted\n",
    "res.params"
   ]
  },
  {
   "cell_type": "code",
   "execution_count": 103,
   "metadata": {},
   "outputs": [
    {
     "name": "stdout",
     "output_type": "stream",
     "text": [
      "                            OLS Regression Results                            \n",
      "==============================================================================\n",
      "Dep. Variable:                    cnt   R-squared:                       0.822\n",
      "Model:                            OLS   Adj. R-squared:                  0.818\n",
      "Method:                 Least Squares   F-statistic:                     255.7\n",
      "Date:                Mon, 02 Nov 2020   Prob (F-statistic):          8.71e-181\n",
      "Time:                        23:22:29   Log-Likelihood:                -284.22\n",
      "No. Observations:                 510   AIC:                             588.4\n",
      "Df Residuals:                     500   BIC:                             630.8\n",
      "Df Model:                           9                                         \n",
      "Covariance Type:            nonrobust                                         \n",
      "=========================================================================================\n",
      "                            coef    std err          t      P>|t|      [0.025      0.975]\n",
      "-----------------------------------------------------------------------------------------\n",
      "const                    -0.5357      0.059     -9.040      0.000      -0.652      -0.419\n",
      "atemp                     0.4250      0.029     14.631      0.000       0.368       0.482\n",
      "workingday_1              0.2509      0.052      4.842      0.000       0.149       0.353\n",
      "season_label_spring      -0.5395      0.069     -7.813      0.000      -0.675      -0.404\n",
      "season_label_winter       0.2134      0.056      3.834      0.000       0.104       0.323\n",
      "yr_label_2019             1.0499      0.038     27.545      0.000       0.975       1.125\n",
      "mnth_label_september      0.3272      0.071      4.587      0.000       0.187       0.467\n",
      "weekday_label_monday      0.2859      0.067      4.287      0.000       0.155       0.417\n",
      "weathersit_label_mist    -0.3480      0.041     -8.588      0.000      -0.428      -0.268\n",
      "weathersit_label_rain    -1.3347      0.114    -11.684      0.000      -1.559      -1.110\n",
      "==============================================================================\n",
      "Omnibus:                       76.396   Durbin-Watson:                   2.065\n",
      "Prob(Omnibus):                  0.000   Jarque-Bera (JB):              218.408\n",
      "Skew:                          -0.719   Prob(JB):                     3.74e-48\n",
      "Kurtosis:                       5.865   Cond. No.                         8.78\n",
      "==============================================================================\n",
      "\n",
      "Warnings:\n",
      "[1] Standard Errors assume that the covariance matrix of the errors is correctly specified.\n"
     ]
    }
   ],
   "source": [
    "# Performing a summary operation lists out all the different parameters of the regression line fitted\n",
    "\n",
    "print(res.summary())"
   ]
  },
  {
   "cell_type": "code",
   "execution_count": 104,
   "metadata": {},
   "outputs": [
    {
     "data": {
      "text/html": [
       "<div>\n",
       "<style scoped>\n",
       "    .dataframe tbody tr th:only-of-type {\n",
       "        vertical-align: middle;\n",
       "    }\n",
       "\n",
       "    .dataframe tbody tr th {\n",
       "        vertical-align: top;\n",
       "    }\n",
       "\n",
       "    .dataframe thead th {\n",
       "        text-align: right;\n",
       "    }\n",
       "</style>\n",
       "<table border=\"1\" class=\"dataframe\">\n",
       "  <thead>\n",
       "    <tr style=\"text-align: right;\">\n",
       "      <th></th>\n",
       "      <th>Features</th>\n",
       "      <th>VIF</th>\n",
       "    </tr>\n",
       "  </thead>\n",
       "  <tbody>\n",
       "    <tr>\n",
       "      <th>1</th>\n",
       "      <td>workingday_1</td>\n",
       "      <td>2.61</td>\n",
       "    </tr>\n",
       "    <tr>\n",
       "      <th>2</th>\n",
       "      <td>season_label_spring</td>\n",
       "      <td>2.60</td>\n",
       "    </tr>\n",
       "    <tr>\n",
       "      <th>0</th>\n",
       "      <td>atemp</td>\n",
       "      <td>2.13</td>\n",
       "    </tr>\n",
       "    <tr>\n",
       "      <th>4</th>\n",
       "      <td>yr_label_2019</td>\n",
       "      <td>1.87</td>\n",
       "    </tr>\n",
       "    <tr>\n",
       "      <th>3</th>\n",
       "      <td>season_label_winter</td>\n",
       "      <td>1.74</td>\n",
       "    </tr>\n",
       "    <tr>\n",
       "      <th>7</th>\n",
       "      <td>weathersit_label_mist</td>\n",
       "      <td>1.52</td>\n",
       "    </tr>\n",
       "    <tr>\n",
       "      <th>6</th>\n",
       "      <td>weekday_label_monday</td>\n",
       "      <td>1.36</td>\n",
       "    </tr>\n",
       "    <tr>\n",
       "      <th>5</th>\n",
       "      <td>mnth_label_september</td>\n",
       "      <td>1.14</td>\n",
       "    </tr>\n",
       "    <tr>\n",
       "      <th>8</th>\n",
       "      <td>weathersit_label_rain</td>\n",
       "      <td>1.07</td>\n",
       "    </tr>\n",
       "  </tbody>\n",
       "</table>\n",
       "</div>"
      ],
      "text/plain": [
       "                Features   VIF\n",
       "1           workingday_1  2.61\n",
       "2    season_label_spring  2.60\n",
       "0                  atemp  2.13\n",
       "4          yr_label_2019  1.87\n",
       "3    season_label_winter  1.74\n",
       "7  weathersit_label_mist  1.52\n",
       "6   weekday_label_monday  1.36\n",
       "5   mnth_label_september  1.14\n",
       "8  weathersit_label_rain  1.07"
      ]
     },
     "execution_count": 104,
     "metadata": {},
     "output_type": "execute_result"
    }
   ],
   "source": [
    "# Calling the Custom function to create a dataframe that will contain the names of all the feature variables and their respective VIFs\n",
    "\n",
    "vif()"
   ]
  },
  {
   "cell_type": "markdown",
   "metadata": {},
   "source": [
    "### Visualising the data with a scatter plot and the fitted regression line"
   ]
  },
  {
   "cell_type": "markdown",
   "metadata": {},
   "source": [
    "---\n",
    "## Residual Analysis\n",
    "---"
   ]
  },
  {
   "cell_type": "markdown",
   "metadata": {},
   "source": [
    "- **_Residual Analysis needs to be done to validate assumptions of the model, and hence the reliability for inference._**\n",
    "\n",
    "### Distribution of the Error terms\n",
    "- We need to check if the error terms are also normally distributed (which is one of the major assumptions of linear regression).\n",
    "- Plotting a histogram of the error terms and see what it looks like."
   ]
  },
  {
   "cell_type": "code",
   "execution_count": 105,
   "metadata": {},
   "outputs": [],
   "source": [
    "y_train_pred = res.predict(X_train_cn)\n",
    "# y_train_pred.head()"
   ]
  },
  {
   "cell_type": "code",
   "execution_count": 106,
   "metadata": {},
   "outputs": [],
   "source": [
    "# Calculating the residuals\n",
    "\n",
    "residuals = (y_train - y_train_pred)"
   ]
  },
  {
   "cell_type": "code",
   "execution_count": 107,
   "metadata": {},
   "outputs": [],
   "source": [
    "# Plot the histogram of the error terms/residuals\n",
    "\n",
    "# plt.figure(figsize=(11,7))\n",
    "# sns.distplot(residuals, hist=True)\n",
    "# plt.title('Residuals Analysis', fontsize = 24)                 # Plot heading \n",
    "# plt.xlabel('Errors / Residuals', fontsize = 12);                    # X-label"
   ]
  },
  {
   "cell_type": "code",
   "execution_count": 108,
   "metadata": {},
   "outputs": [
    {
     "data": {
      "image/png": "[encoded data removed]",
      "text/plain": [
       "<Figure size 720x432 with 1 Axes>"
      ]
     },
     "metadata": {
      "needs_background": "light"
     },
     "output_type": "display_data"
    }
   ],
   "source": [
    "# Plot the histogram of the error terms/residuals\n",
    "\n",
    "plt.figure(figsize=(10,6))\n",
    "sns.histplot(residuals, stat=\"density\", kde=True, color='#d62728')\n",
    "plt.title('Residuals Analysis', fontsize = 24)                 # Plot heading \n",
    "plt.xlabel('Errors / Residuals', fontsize = 12);                    # X-label"
   ]
  },
  {
   "cell_type": "markdown",
   "metadata": {},
   "source": [
    "**_We can conclude that the Error terms/Residuals follow a Normal-Distribution curve._**"
   ]
  },
  {
   "cell_type": "markdown",
   "metadata": {},
   "source": [
    "- **_Normal distribution of the residuals can be validated by plotting a q-q plot._**\n",
    "\n",
    "- **_Using the q-q plot we can infer if the data comes from a normal distribution._**\n",
    "- **_If yes, the plot would show fairly straight line. Absence of normality in the errors can be seen with deviation in the straight line._**"
   ]
  },
  {
   "cell_type": "code",
   "execution_count": 109,
   "metadata": {},
   "outputs": [
    {
     "data": {
      "image/png": "[encoded data removed]",
      "text/plain": [
       "<Figure size 432x288 with 1 Axes>"
      ]
     },
     "metadata": {
      "needs_background": "light"
     },
     "output_type": "display_data"
    }
   ],
   "source": [
    "residuals_fit = res.resid\n",
    "fig = sm.qqplot(residuals_fit, fit=True, line='45')\n",
    "plt.show()"
   ]
  },
  {
   "cell_type": "markdown",
   "metadata": {},
   "source": [
    "**_The q-q plot of the bike sharing data set shows that the errors(residuals) are fairly normally distributed._**"
   ]
  },
  {
   "cell_type": "markdown",
   "metadata": {},
   "source": [
    "### Homoscedasticity Assumption"
   ]
  },
  {
   "attachments": {
    "image.png": {
     "image/png": "[encoded data removed]"
    }
   },
   "cell_type": "markdown",
   "metadata": {},
   "source": [
    "- _**Homoscedasticity** describes a situation in which the **error term** (that is, the “noise” or random disturbance in the relationship between the features and the target) **is the same across all values of the independent variables.**_\n",
    "- A scatter plot of residual values vs predicted values is a goodway to check for homoscedasticity.There should be **no clear pattern in the distribution** and **if there is a specific pattern,the data is heteroscedastic.**\n",
    "\n",
    "![image.png](attachment:image.png)"
   ]
  },
  {
   "cell_type": "code",
   "execution_count": 110,
   "metadata": {},
   "outputs": [
    {
     "data": {
      "image/png": "[encoded data removed]",
      "text/plain": [
       "<Figure size 432x432 with 3 Axes>"
      ]
     },
     "metadata": {
      "needs_background": "light"
     },
     "output_type": "display_data"
    }
   ],
   "source": [
    "# Predicting the y_train\n",
    "y_train_pred = res.predict(X_train_cn)\n",
    "\n",
    "# Calculating the residuals\n",
    "residuals = (y_train - y_train_pred)\n",
    "\n",
    "# Visualizing the residuals and predicted value on train set\n",
    "# plt.figure(figsize=(25,12))\n",
    "sns.jointplot(x = y_train_pred, y = residuals, kind='reg', color='#d62728')\n",
    "plt.title('Residuals of Linear Regression Model', fontsize = 20, pad = 100) # Plot heading \n",
    "plt.xlabel('Predicted Value', fontsize = 12)                     # X-label\n",
    "plt.ylabel('Residuals', fontsize = 12);                          # Y-label"
   ]
  },
  {
   "cell_type": "markdown",
   "metadata": {},
   "source": [
    "**_Homoscedasticity Assumption holds true, as there is no clear pattern in the distribution_**"
   ]
  },
  {
   "cell_type": "markdown",
   "metadata": {},
   "source": [
    "### Little or No autocorrelation in the residuals\n",
    "\n",
    "- Autocorrelation occurs when the residual errors are dependent on each other.The presence of correlation in error terms drastically reduces model’s accuracy.\n",
    "\n",
    "- **Autocorrelation** can be tested with the help of **Durbin-Watson test**.The null hypothesis of the test is that there is no serial correlation.\n",
    "\n",
    "- The test statistic is approximately equal to **2*(1-r)** where **r is the sample autocorrelation of the residuals**. Thus, **for r == 0, indicating no serial correlation, the test statistic equals 2**. This statistic will always be between 0 and 4. The closer to 0 the statistic, the more evidence for positive serial correlation. The closer to 4, the more evidence for negative serial correlation.\n",
    "\n",
    "- In our summary results, **Durbin-Watson is 2.065**, which tells us that the **residuals are not correlated**."
   ]
  },
  {
   "cell_type": "code",
   "execution_count": null,
   "metadata": {},
   "outputs": [],
   "source": []
  },
  {
   "cell_type": "markdown",
   "metadata": {},
   "source": [
    "---\n",
    "## Making Predictions using the Final Model\n",
    "---"
   ]
  },
  {
   "cell_type": "markdown",
   "metadata": {},
   "source": [
    "### Applying the scaling on the test sets"
   ]
  },
  {
   "cell_type": "code",
   "execution_count": 111,
   "metadata": {},
   "outputs": [],
   "source": [
    "# Apply scaler() to all the variables except the 'yes-no' and 'dummy' variables.\n",
    "# scaler = StandardScaler() - scaler object is already instantiated while scaling train set\n",
    "\n",
    "num_vars = ['atemp', 'cnt']\n",
    "\n",
    "day_test[num_vars] = scaler.transform(day_test[num_vars])"
   ]
  },
  {
   "cell_type": "code",
   "execution_count": 112,
   "metadata": {},
   "outputs": [],
   "source": [
    "# day_test.head()"
   ]
  },
  {
   "cell_type": "markdown",
   "metadata": {},
   "source": [
    "### Splitting into X_test and y_test"
   ]
  },
  {
   "cell_type": "code",
   "execution_count": 113,
   "metadata": {},
   "outputs": [],
   "source": [
    "y_test = day_test.pop('cnt')\n",
    "X_test = day_test"
   ]
  },
  {
   "cell_type": "markdown",
   "metadata": {},
   "source": [
    "### Predict the target"
   ]
  },
  {
   "cell_type": "code",
   "execution_count": 114,
   "metadata": {},
   "outputs": [],
   "source": [
    "# Now let's use our model to make predictions.\n",
    "\n",
    "# Creating X_test dataframe by dropping variables from X_test\n",
    "X_test = X_test[X_train.columns]\n",
    "\n",
    "# Adding a constant variable \n",
    "X_test_cn = sm.add_constant(X_test)\n",
    "\n",
    "# Making predictions\n",
    "y_pred = res.predict(X_test_cn)"
   ]
  },
  {
   "cell_type": "markdown",
   "metadata": {},
   "source": [
    "---\n",
    "## Model Evaluation\n",
    "---"
   ]
  },
  {
   "cell_type": "code",
   "execution_count": 115,
   "metadata": {},
   "outputs": [
    {
     "data": {
      "image/png": "[encoded data removed]",
      "text/plain": [
       "<Figure size 864x504 with 1 Axes>"
      ]
     },
     "metadata": {
      "needs_background": "light"
     },
     "output_type": "display_data"
    }
   ],
   "source": [
    "# Plotting y_test and y_pred to understand the spread.\n",
    "plt.figure(figsize=(12,7))\n",
    "sns.scatterplot(x = y_test, y = y_pred, color='#d62728')\n",
    "plt.title('y_test vs y_pred', fontsize=25, pad = 25)              # Plot heading \n",
    "plt.xlabel('y_test', fontsize=16)                          # X-label\n",
    "plt.ylabel('y_pred', fontsize=16);                          # Y-label"
   ]
  },
  {
   "cell_type": "markdown",
   "metadata": {},
   "source": [
    "### The scatterplot is almost a straight line which also depicts that predicted y resemble the y test."
   ]
  },
  {
   "cell_type": "code",
   "execution_count": 116,
   "metadata": {},
   "outputs": [],
   "source": [
    "from sklearn.metrics import mean_squared_error\n",
    "from sklearn.metrics import r2_score"
   ]
  },
  {
   "cell_type": "markdown",
   "metadata": {},
   "source": [
    "### Looking at the RMSE"
   ]
  },
  {
   "cell_type": "code",
   "execution_count": 117,
   "metadata": {},
   "outputs": [
    {
     "data": {
      "text/plain": [
       "0.42162390366923597"
      ]
     },
     "execution_count": 117,
     "metadata": {},
     "output_type": "execute_result"
    }
   ],
   "source": [
    "#Returns the mean squared error; we'll take a square root\n",
    "np.sqrt(mean_squared_error(y_test, y_pred))"
   ]
  },
  {
   "cell_type": "markdown",
   "metadata": {},
   "source": [
    "**_The closer the value of RMSE is to zero , the better is the Regression Model._**<br>\n",
    "**_In reality, we will not have RMSE equal to zero, in that case we will be checking how close the RMSE is to zero._**"
   ]
  },
  {
   "cell_type": "markdown",
   "metadata": {},
   "source": [
    "### Checking the R-squared on the test set"
   ]
  },
  {
   "cell_type": "code",
   "execution_count": 118,
   "metadata": {},
   "outputs": [
    {
     "data": {
      "text/plain": [
       "0.8131182604982332"
      ]
     },
     "execution_count": 118,
     "metadata": {},
     "output_type": "execute_result"
    }
   ],
   "source": [
    "# R2 scroe on test data\n",
    "\n",
    "r_squared = r2_score(y_test, y_pred)\n",
    "r_squared"
   ]
  },
  {
   "cell_type": "code",
   "execution_count": 119,
   "metadata": {},
   "outputs": [
    {
     "data": {
      "text/plain": [
       "0.8215207828747176"
      ]
     },
     "execution_count": 119,
     "metadata": {},
     "output_type": "execute_result"
    }
   ],
   "source": [
    "# R2 scroe on train data\n",
    "\n",
    "r_squared = r2_score(y_train, y_train_pred)\n",
    "r_squared"
   ]
  },
  {
   "cell_type": "markdown",
   "metadata": {},
   "source": [
    "### **_R2 score of train and test data is very close. Hence we can say that the model has performed well on the test data._**"
   ]
  },
  {
   "cell_type": "markdown",
   "metadata": {},
   "source": [
    "# Summary\n",
    "\n",
    "- _Model Selected with Mix Approach_ - **RFE Technique and Manual selection guided by VIF**\n",
    "- _R-Squared_ : **0.822**\n",
    "- _Adjusted R-Squared_ : **0.818**\n",
    "- _R2_Score_ : **0.81**\n",
    "- _Root Mean Squared Error_ : **0.42**"
   ]
  },
  {
   "cell_type": "code",
   "execution_count": null,
   "metadata": {},
   "outputs": [],
   "source": []
  }
 ],
 "metadata": {
  "kernelspec": {
   "display_name": "Python 3",
   "language": "python",
   "name": "python3"
  },
  "language_info": {
   "codemirror_mode": {
    "name": "ipython",
    "version": 3
   },
   "file_extension": ".py",
   "mimetype": "text/x-python",
   "name": "python",
   "nbconvert_exporter": "python",
   "pygments_lexer": "ipython3",
   "version": "3.7.4"
  }
 },
 "nbformat": 4,
 "nbformat_minor": 2
}
